{
  "nbformat": 4,
  "nbformat_minor": 0,
  "metadata": {
    "accelerator": "GPU",
    "colab": {
      "name": "trasformer_EEG_40_class.ipynb",
      "provenance": [],
      "collapsed_sections": []
    },
    "kernelspec": {
      "display_name": "Python 3",
      "name": "python3"
    }
  },
  "cells": [
    {
      "cell_type": "code",
      "metadata": {
        "colab": {
          "base_uri": "https://localhost:8080/"
        },
        "id": "MyyJyZ4qYYof",
        "outputId": "2695e8a1-055a-4086-d025-01373574a87a"
      },
      "source": [
        "from google.colab import drive\n",
        "drive.mount('/content/drive')"
      ],
      "execution_count": 1,
      "outputs": [
        {
          "output_type": "stream",
          "text": [
            "Drive already mounted at /content/drive; to attempt to forcibly remount, call drive.mount(\"/content/drive\", force_remount=True).\n"
          ],
          "name": "stdout"
        }
      ]
    },
    {
      "cell_type": "code",
      "metadata": {
        "id": "tsjNU5JIbfE0"
      },
      "source": [
        "!cp /content/drive/MyDrive/Dataset/eeg/imports/data_import.py /content\n",
        "!cp /content/drive/MyDrive/Dataset/eeg/imports/transformer_encoder.py /content\n",
        "!cp /content/drive/MyDrive/Dataset/eeg/imports/conv1dAndBILSTM_encoder.py /content\n",
        "from data_import import data_load \n",
        "import transformer_encoder as tr #import tranformer\n",
        "from conv1dAndBILSTM_encoder import conv1d,biLSTM\n",
        "strt= 50 #start\n",
        "flen = 200  #length"
      ],
      "execution_count": 2,
      "outputs": []
    },
    {
      "cell_type": "code",
      "metadata": {
        "id": "B2lyw6MFxz_k"
      },
      "source": [
        "import numpy as np\n",
        "import matplotlib.pylab as plt\n",
        "from tensorflow.python.keras.callbacks import EarlyStopping, ModelCheckpoint\n",
        "import tensorflow as tf"
      ],
      "execution_count": 3,
      "outputs": []
    },
    {
      "cell_type": "code",
      "metadata": {
        "id": "6DVsdX5OxVEf"
      },
      "source": [
        "def plotter(enc):\n",
        "    # summarize history for accuracy\n",
        "    plt.plot(history.history['accuracy'])\n",
        "    plt.plot(history.history['val_accuracy'])\n",
        "    plt.title(enc + ' accuracy')\n",
        "    plt.ylabel('accuracy')\n",
        "    plt.xlabel('epoch')\n",
        "    plt.legend(['accuarcy', 'val_accuracy'], loc='best')\n",
        "    plt.show()\n",
        "    # summarize history for loss\n",
        "    plt.plot(history.history['loss'])\n",
        "    plt.plot(history.history['val_loss'])\n",
        "    plt.title(enc + ' loss')\n",
        "    plt.ylabel('loss')\n",
        "    plt.xlabel('epoch')\n",
        "    plt.legend(['loss','val_loss'], loc='best')\n",
        "    plt.show()"
      ],
      "execution_count": 4,
      "outputs": []
    },
    {
      "cell_type": "markdown",
      "metadata": {
        "id": "W_qmjDqPUyWp"
      },
      "source": [
        "#Transformer\n"
      ]
    },
    {
      "cell_type": "code",
      "metadata": {
        "id": "S-AfApccrcAx",
        "outputId": "b975830f-5b96-4035-e063-a51716d2bd7a",
        "colab": {
          "base_uri": "https://localhost:8080/"
        }
      },
      "source": [
        "class myCallback(tf.keras.callbacks.Callback):\n",
        "\tdef on_epoch_end(self, epoch, logs={}):\n",
        "\t\tif(logs.get('val_accuracy') >= 0.995):\n",
        "\t\t\tprint(\"\\nReached %2.22f%% accuracy, so stopping training!!\" %(0.995))\n",
        "\t\t\tself.model.stop_training = True\n",
        "\n",
        "x_train,y_train,x_test,y_test,x_val,y_val = data_load(50 ,200)\n",
        "\n",
        "trans = tr.transformer(x = x_train.shape[1] , y = x_train.shape[2])"
      ],
      "execution_count": 8,
      "outputs": [
        {
          "output_type": "stream",
          "text": [
            "Model: \"model_1\"\n",
            "_________________________________________________________________\n",
            "Layer (type)                 Output Shape              Param #   \n",
            "=================================================================\n",
            "input_2 (InputLayer)         [(None, 200, 128)]        0         \n",
            "_________________________________________________________________\n",
            "transformer_block_1 (Transfo (None, 200, 128)          140832    \n",
            "_________________________________________________________________\n",
            "global_average_pooling1d_1 ( (None, 128)               0         \n",
            "_________________________________________________________________\n",
            "dense_6 (Dense)              (None, 128)               16512     \n",
            "_________________________________________________________________\n",
            "dense_7 (Dense)              (None, 40)                5160      \n",
            "=================================================================\n",
            "Total params: 162,504\n",
            "Trainable params: 162,504\n",
            "Non-trainable params: 0\n",
            "_________________________________________________________________\n"
          ],
          "name": "stdout"
        }
      ]
    },
    {
      "cell_type": "code",
      "metadata": {
        "id": "C04frIOYX2jH",
        "outputId": "33a7f309-2249-425b-f1b1-f9a5560bbd56",
        "colab": {
          "base_uri": "https://localhost:8080/"
        }
      },
      "source": [
        "history = trans.fit(x_train, y_train, validation_data=(x_test, y_test),\n",
        "                   epochs=45, batch_size=32,callbacks = myCallback())"
      ],
      "execution_count": 9,
      "outputs": [
        {
          "output_type": "stream",
          "text": [
            "Epoch 1/45\n",
            "300/300 [==============================] - 5s 13ms/step - loss: 2.0623 - accuracy: 0.4186 - val_loss: 1.0125 - val_accuracy: 0.6817\n",
            "Epoch 2/45\n",
            "300/300 [==============================] - 4s 12ms/step - loss: 0.6985 - accuracy: 0.7783 - val_loss: 0.4874 - val_accuracy: 0.8446\n",
            "Epoch 3/45\n",
            "300/300 [==============================] - 4s 12ms/step - loss: 0.3512 - accuracy: 0.8971 - val_loss: 0.3022 - val_accuracy: 0.9098\n",
            "Epoch 4/45\n",
            "300/300 [==============================] - 4s 12ms/step - loss: 0.2633 - accuracy: 0.9224 - val_loss: 0.2650 - val_accuracy: 0.9231\n",
            "Epoch 5/45\n",
            "300/300 [==============================] - 4s 12ms/step - loss: 0.1715 - accuracy: 0.9476 - val_loss: 0.2796 - val_accuracy: 0.9181\n",
            "Epoch 6/45\n",
            "300/300 [==============================] - 4s 12ms/step - loss: 0.1429 - accuracy: 0.9579 - val_loss: 0.1523 - val_accuracy: 0.9591\n",
            "Epoch 7/45\n",
            "300/300 [==============================] - 4s 12ms/step - loss: 0.1475 - accuracy: 0.9585 - val_loss: 0.1921 - val_accuracy: 0.9424\n",
            "Epoch 8/45\n",
            "300/300 [==============================] - 4s 12ms/step - loss: 0.1112 - accuracy: 0.9670 - val_loss: 0.1377 - val_accuracy: 0.9616\n",
            "Epoch 9/45\n",
            "300/300 [==============================] - 4s 12ms/step - loss: 0.1069 - accuracy: 0.9674 - val_loss: 0.1794 - val_accuracy: 0.9482\n",
            "Epoch 10/45\n",
            "300/300 [==============================] - 4s 12ms/step - loss: 0.0682 - accuracy: 0.9796 - val_loss: 0.1835 - val_accuracy: 0.9549\n",
            "Epoch 11/45\n",
            "300/300 [==============================] - 4s 12ms/step - loss: 0.1201 - accuracy: 0.9650 - val_loss: 0.1992 - val_accuracy: 0.9532\n",
            "Epoch 12/45\n",
            "300/300 [==============================] - 4s 12ms/step - loss: 0.0705 - accuracy: 0.9795 - val_loss: 0.1503 - val_accuracy: 0.9624\n",
            "Epoch 13/45\n",
            "300/300 [==============================] - 4s 12ms/step - loss: 0.0586 - accuracy: 0.9850 - val_loss: 0.1818 - val_accuracy: 0.9524\n",
            "Epoch 14/45\n",
            "300/300 [==============================] - 4s 12ms/step - loss: 0.0822 - accuracy: 0.9761 - val_loss: 0.1903 - val_accuracy: 0.9432\n",
            "Epoch 15/45\n",
            "300/300 [==============================] - 4s 12ms/step - loss: 0.0663 - accuracy: 0.9809 - val_loss: 0.1148 - val_accuracy: 0.9674\n",
            "Epoch 16/45\n",
            "300/300 [==============================] - 4s 12ms/step - loss: 0.0597 - accuracy: 0.9819 - val_loss: 0.1509 - val_accuracy: 0.9474\n",
            "Epoch 17/45\n",
            "300/300 [==============================] - 4s 12ms/step - loss: 0.0754 - accuracy: 0.9756 - val_loss: 0.1581 - val_accuracy: 0.9524\n",
            "Epoch 18/45\n",
            "300/300 [==============================] - 4s 12ms/step - loss: 0.0753 - accuracy: 0.9770 - val_loss: 0.0993 - val_accuracy: 0.9741\n",
            "Epoch 19/45\n",
            "300/300 [==============================] - 3s 12ms/step - loss: 0.0590 - accuracy: 0.9828 - val_loss: 0.0966 - val_accuracy: 0.9783\n",
            "Epoch 20/45\n",
            "300/300 [==============================] - 3s 12ms/step - loss: 0.0493 - accuracy: 0.9866 - val_loss: 0.0820 - val_accuracy: 0.9766\n",
            "Epoch 21/45\n",
            "300/300 [==============================] - 3s 12ms/step - loss: 0.0286 - accuracy: 0.9931 - val_loss: 0.1230 - val_accuracy: 0.9649\n",
            "Epoch 22/45\n",
            "300/300 [==============================] - 3s 12ms/step - loss: 0.0339 - accuracy: 0.9914 - val_loss: 0.0874 - val_accuracy: 0.9783\n",
            "Epoch 23/45\n",
            "300/300 [==============================] - 3s 12ms/step - loss: 0.1209 - accuracy: 0.9644 - val_loss: 0.1222 - val_accuracy: 0.9666\n",
            "Epoch 24/45\n",
            "300/300 [==============================] - 3s 12ms/step - loss: 0.0467 - accuracy: 0.9869 - val_loss: 0.0707 - val_accuracy: 0.9850\n",
            "Epoch 25/45\n",
            "300/300 [==============================] - 3s 12ms/step - loss: 0.0354 - accuracy: 0.9887 - val_loss: 0.0589 - val_accuracy: 0.9858\n",
            "Epoch 26/45\n",
            "300/300 [==============================] - 4s 12ms/step - loss: 0.0397 - accuracy: 0.9878 - val_loss: 0.1420 - val_accuracy: 0.9674\n",
            "Epoch 27/45\n",
            "300/300 [==============================] - 4s 12ms/step - loss: 0.0470 - accuracy: 0.9864 - val_loss: 0.0787 - val_accuracy: 0.9774\n",
            "Epoch 28/45\n",
            "300/300 [==============================] - 4s 12ms/step - loss: 0.0372 - accuracy: 0.9899 - val_loss: 0.0534 - val_accuracy: 0.9875\n",
            "Epoch 29/45\n",
            "300/300 [==============================] - 4s 12ms/step - loss: 0.0169 - accuracy: 0.9960 - val_loss: 0.0543 - val_accuracy: 0.9900\n",
            "Epoch 30/45\n",
            "300/300 [==============================] - 4s 12ms/step - loss: 0.0102 - accuracy: 0.9977 - val_loss: 0.0649 - val_accuracy: 0.9866\n",
            "Epoch 31/45\n",
            "300/300 [==============================] - 4s 12ms/step - loss: 0.1307 - accuracy: 0.9601 - val_loss: 0.1582 - val_accuracy: 0.9566\n",
            "Epoch 32/45\n",
            "300/300 [==============================] - 3s 12ms/step - loss: 0.0377 - accuracy: 0.9881 - val_loss: 0.0698 - val_accuracy: 0.9808\n",
            "Epoch 33/45\n",
            "300/300 [==============================] - 4s 12ms/step - loss: 0.0166 - accuracy: 0.9961 - val_loss: 0.0563 - val_accuracy: 0.9833\n",
            "Epoch 34/45\n",
            "300/300 [==============================] - 4s 12ms/step - loss: 0.0276 - accuracy: 0.9937 - val_loss: 0.0733 - val_accuracy: 0.9783\n",
            "Epoch 35/45\n",
            "300/300 [==============================] - 4s 12ms/step - loss: 0.0479 - accuracy: 0.9873 - val_loss: 0.0960 - val_accuracy: 0.9774\n",
            "Epoch 36/45\n",
            "300/300 [==============================] - 4s 12ms/step - loss: 0.0246 - accuracy: 0.9940 - val_loss: 0.1477 - val_accuracy: 0.9649\n",
            "Epoch 37/45\n",
            "300/300 [==============================] - 4s 12ms/step - loss: 0.0399 - accuracy: 0.9887 - val_loss: 0.0897 - val_accuracy: 0.9741\n",
            "Epoch 38/45\n",
            "300/300 [==============================] - 4s 12ms/step - loss: 0.0333 - accuracy: 0.9912 - val_loss: 0.0480 - val_accuracy: 0.9916\n",
            "Epoch 39/45\n",
            "300/300 [==============================] - 4s 12ms/step - loss: 0.0316 - accuracy: 0.9913 - val_loss: 0.0935 - val_accuracy: 0.9825\n",
            "Epoch 40/45\n",
            "300/300 [==============================] - 4s 12ms/step - loss: 0.0560 - accuracy: 0.9855 - val_loss: 0.0702 - val_accuracy: 0.9866\n",
            "Epoch 41/45\n",
            "300/300 [==============================] - 4s 12ms/step - loss: 0.0374 - accuracy: 0.9908 - val_loss: 0.1046 - val_accuracy: 0.9724\n",
            "Epoch 42/45\n",
            "300/300 [==============================] - 4s 12ms/step - loss: 0.0246 - accuracy: 0.9936 - val_loss: 0.0947 - val_accuracy: 0.9741\n",
            "Epoch 43/45\n",
            "300/300 [==============================] - 4s 12ms/step - loss: 0.0194 - accuracy: 0.9951 - val_loss: 0.0948 - val_accuracy: 0.9758\n",
            "Epoch 44/45\n",
            "300/300 [==============================] - 4s 12ms/step - loss: 0.0146 - accuracy: 0.9960 - val_loss: 0.0428 - val_accuracy: 0.9925\n",
            "Epoch 45/45\n",
            "300/300 [==============================] - 4s 12ms/step - loss: 0.0191 - accuracy: 0.9953 - val_loss: 0.1179 - val_accuracy: 0.9683\n"
          ],
          "name": "stdout"
        }
      ]
    },
    {
      "cell_type": "code",
      "metadata": {
        "colab": {
          "base_uri": "https://localhost:8080/",
          "height": 607
        },
        "id": "ZTAlwLThfYfg",
        "outputId": "2b1ba6a1-5add-4bfd-d6ab-24b0d1b8c3f4"
      },
      "source": [
        "print(trans.evaluate(x_test, y_test))\n",
        "plotter('Transformer')\n",
        "del(trans)"
      ],
      "execution_count": 10,
      "outputs": [
        {
          "output_type": "stream",
          "text": [
            "38/38 [==============================] - 0s 8ms/step - loss: 0.1179 - accuracy: 0.9683\n",
            "[0.11792673915624619, 0.9682539701461792]\n"
          ],
          "name": "stdout"
        },
        {
          "output_type": "display_data",
          "data": {
            "image/png": "[encoded data removed]",
            "text/plain": [
              "<Figure size 432x288 with 1 Axes>"
            ]
          },
          "metadata": {
            "tags": [],
            "needs_background": "light"
          }
        },
        {
          "output_type": "display_data",
          "data": {
            "image/png": "[encoded data removed]",
            "text/plain": [
              "<Figure size 432x288 with 1 Axes>"
            ]
          },
          "metadata": {
            "tags": [],
            "needs_background": "light"
          }
        }
      ]
    },
    {
      "cell_type": "markdown",
      "metadata": {
        "id": "E25qUhQDfZ8j"
      },
      "source": [
        "#Conv1d and BiLSTM\n"
      ]
    },
    {
      "cell_type": "code",
      "metadata": {
        "colab": {
          "base_uri": "https://localhost:8080/"
        },
        "id": "w3FZc9_whcyK",
        "outputId": "55267e40-1cd2-43b8-8e28-47cf7bbbe037"
      },
      "source": [
        "from keras.callbacks import ModelCheckpoint, EarlyStopping\n",
        "# defining the keras callbacks to be used while training the network\n",
        "modelcheckpoint = ModelCheckpoint('lstm_model.h5', save_best_only=True, monitor='val_acc', verbose=1)\n",
        "earlystopping = EarlyStopping(monitor='val_acc', verbose=1, patience=10)\n",
        "\n",
        "x_train,y_train,x_test,y_test,x_val,y_val = data_load(320 ,160)\n",
        "\n",
        "conv = conv1d()"
      ],
      "execution_count": 5,
      "outputs": [
        {
          "output_type": "stream",
          "text": [
            "Model: \"model\"\n",
            "_________________________________________________________________\n",
            "Layer (type)                 Output Shape              Param #   \n",
            "=================================================================\n",
            "input_1 (InputLayer)         [(None, 160, 128)]        0         \n",
            "_________________________________________________________________\n",
            "conv1d (Conv1D)              (None, 158, 128)          49280     \n",
            "_________________________________________________________________\n",
            "max_pooling1d (MaxPooling1D) (None, 79, 128)           0         \n",
            "_________________________________________________________________\n",
            "conv1d_1 (Conv1D)            (None, 77, 64)            24640     \n",
            "_________________________________________________________________\n",
            "max_pooling1d_1 (MaxPooling1 (None, 38, 64)            0         \n",
            "_________________________________________________________________\n",
            "conv1d_2 (Conv1D)            (None, 36, 32)            6176      \n",
            "_________________________________________________________________\n",
            "max_pooling1d_2 (MaxPooling1 (None, 18, 32)            0         \n",
            "_________________________________________________________________\n",
            "attention (Attention)        (None, 18, 32)            50        \n",
            "_________________________________________________________________\n",
            "flatten (Flatten)            (None, 576)               0         \n",
            "_________________________________________________________________\n",
            "dense (Dense)                (None, 128)               73856     \n",
            "_________________________________________________________________\n",
            "dense_1 (Dense)              (None, 40)                5160      \n",
            "=================================================================\n",
            "Total params: 159,162\n",
            "Trainable params: 159,162\n",
            "Non-trainable params: 0\n",
            "_________________________________________________________________\n"
          ],
          "name": "stdout"
        }
      ]
    },
    {
      "cell_type": "code",
      "metadata": {
        "colab": {
          "base_uri": "https://localhost:8080/"
        },
        "id": "XKsGllcCc9Gm",
        "outputId": "a5f14171-f650-40f6-bbd5-c3f33ec66879"
      },
      "source": [
        "history = conv.fit(x_train, y_train, batch_size=128, epochs=75, callbacks=[modelcheckpoint, earlystopping], validation_data=(x_test, y_test))"
      ],
      "execution_count": 6,
      "outputs": [
        {
          "output_type": "stream",
          "text": [
            "Epoch 1/75\n",
            "75/75 [==============================] - 33s 24ms/step - loss: 0.0243 - accuracy: 0.0385 - val_loss: 0.0238 - val_accuracy: 0.0593\n",
            "WARNING:tensorflow:Can save best model only with val_acc available, skipping.\n",
            "WARNING:tensorflow:Early stopping conditioned on metric `val_acc` which is not available. Available metrics are: loss,accuracy,val_loss,val_accuracy\n",
            "Epoch 2/75\n",
            "75/75 [==============================] - 1s 13ms/step - loss: 0.0223 - accuracy: 0.1672 - val_loss: 0.0204 - val_accuracy: 0.2623\n",
            "WARNING:tensorflow:Can save best model only with val_acc available, skipping.\n",
            "WARNING:tensorflow:Early stopping conditioned on metric `val_acc` which is not available. Available metrics are: loss,accuracy,val_loss,val_accuracy\n",
            "Epoch 3/75\n",
            "75/75 [==============================] - 1s 13ms/step - loss: 0.0192 - accuracy: 0.3294 - val_loss: 0.0175 - val_accuracy: 0.4110\n",
            "WARNING:tensorflow:Can save best model only with val_acc available, skipping.\n",
            "WARNING:tensorflow:Early stopping conditioned on metric `val_acc` which is not available. Available metrics are: loss,accuracy,val_loss,val_accuracy\n",
            "Epoch 4/75\n",
            "75/75 [==============================] - 1s 13ms/step - loss: 0.0165 - accuracy: 0.4658 - val_loss: 0.0154 - val_accuracy: 0.5046\n",
            "WARNING:tensorflow:Can save best model only with val_acc available, skipping.\n",
            "WARNING:tensorflow:Early stopping conditioned on metric `val_acc` which is not available. Available metrics are: loss,accuracy,val_loss,val_accuracy\n",
            "Epoch 5/75\n",
            "75/75 [==============================] - 1s 13ms/step - loss: 0.0138 - accuracy: 0.5764 - val_loss: 0.0135 - val_accuracy: 0.5873\n",
            "WARNING:tensorflow:Can save best model only with val_acc available, skipping.\n",
            "WARNING:tensorflow:Early stopping conditioned on metric `val_acc` which is not available. Available metrics are: loss,accuracy,val_loss,val_accuracy\n",
            "Epoch 6/75\n",
            "75/75 [==============================] - 1s 13ms/step - loss: 0.0118 - accuracy: 0.6474 - val_loss: 0.0127 - val_accuracy: 0.6082\n",
            "WARNING:tensorflow:Can save best model only with val_acc available, skipping.\n",
            "WARNING:tensorflow:Early stopping conditioned on metric `val_acc` which is not available. Available metrics are: loss,accuracy,val_loss,val_accuracy\n",
            "Epoch 7/75\n",
            "75/75 [==============================] - 1s 13ms/step - loss: 0.0103 - accuracy: 0.7039 - val_loss: 0.0121 - val_accuracy: 0.6441\n",
            "WARNING:tensorflow:Can save best model only with val_acc available, skipping.\n",
            "WARNING:tensorflow:Early stopping conditioned on metric `val_acc` which is not available. Available metrics are: loss,accuracy,val_loss,val_accuracy\n",
            "Epoch 8/75\n",
            "75/75 [==============================] - 1s 13ms/step - loss: 0.0090 - accuracy: 0.7481 - val_loss: 0.0099 - val_accuracy: 0.7210\n",
            "WARNING:tensorflow:Can save best model only with val_acc available, skipping.\n",
            "WARNING:tensorflow:Early stopping conditioned on metric `val_acc` which is not available. Available metrics are: loss,accuracy,val_loss,val_accuracy\n",
            "Epoch 9/75\n",
            "75/75 [==============================] - 1s 13ms/step - loss: 0.0074 - accuracy: 0.7951 - val_loss: 0.0086 - val_accuracy: 0.7652\n",
            "WARNING:tensorflow:Can save best model only with val_acc available, skipping.\n",
            "WARNING:tensorflow:Early stopping conditioned on metric `val_acc` which is not available. Available metrics are: loss,accuracy,val_loss,val_accuracy\n",
            "Epoch 10/75\n",
            "75/75 [==============================] - 1s 13ms/step - loss: 0.0067 - accuracy: 0.8180 - val_loss: 0.0085 - val_accuracy: 0.7594\n",
            "WARNING:tensorflow:Can save best model only with val_acc available, skipping.\n",
            "WARNING:tensorflow:Early stopping conditioned on metric `val_acc` which is not available. Available metrics are: loss,accuracy,val_loss,val_accuracy\n",
            "Epoch 11/75\n",
            "75/75 [==============================] - 1s 13ms/step - loss: 0.0062 - accuracy: 0.8339 - val_loss: 0.0078 - val_accuracy: 0.7828\n",
            "WARNING:tensorflow:Can save best model only with val_acc available, skipping.\n",
            "WARNING:tensorflow:Early stopping conditioned on metric `val_acc` which is not available. Available metrics are: loss,accuracy,val_loss,val_accuracy\n",
            "Epoch 12/75\n",
            "75/75 [==============================] - 1s 13ms/step - loss: 0.0053 - accuracy: 0.8611 - val_loss: 0.0064 - val_accuracy: 0.8338\n",
            "WARNING:tensorflow:Can save best model only with val_acc available, skipping.\n",
            "WARNING:tensorflow:Early stopping conditioned on metric `val_acc` which is not available. Available metrics are: loss,accuracy,val_loss,val_accuracy\n",
            "Epoch 13/75\n",
            "75/75 [==============================] - 1s 13ms/step - loss: 0.0045 - accuracy: 0.8827 - val_loss: 0.0062 - val_accuracy: 0.8396\n",
            "WARNING:tensorflow:Can save best model only with val_acc available, skipping.\n",
            "WARNING:tensorflow:Early stopping conditioned on metric `val_acc` which is not available. Available metrics are: loss,accuracy,val_loss,val_accuracy\n",
            "Epoch 14/75\n",
            "75/75 [==============================] - 1s 13ms/step - loss: 0.0044 - accuracy: 0.8874 - val_loss: 0.0060 - val_accuracy: 0.8363\n",
            "WARNING:tensorflow:Can save best model only with val_acc available, skipping.\n",
            "WARNING:tensorflow:Early stopping conditioned on metric `val_acc` which is not available. Available metrics are: loss,accuracy,val_loss,val_accuracy\n",
            "Epoch 15/75\n",
            "75/75 [==============================] - 1s 13ms/step - loss: 0.0037 - accuracy: 0.9042 - val_loss: 0.0056 - val_accuracy: 0.8588\n",
            "WARNING:tensorflow:Can save best model only with val_acc available, skipping.\n",
            "WARNING:tensorflow:Early stopping conditioned on metric `val_acc` which is not available. Available metrics are: loss,accuracy,val_loss,val_accuracy\n",
            "Epoch 16/75\n",
            "75/75 [==============================] - 1s 13ms/step - loss: 0.0033 - accuracy: 0.9139 - val_loss: 0.0051 - val_accuracy: 0.8688\n",
            "WARNING:tensorflow:Can save best model only with val_acc available, skipping.\n",
            "WARNING:tensorflow:Early stopping conditioned on metric `val_acc` which is not available. Available metrics are: loss,accuracy,val_loss,val_accuracy\n",
            "Epoch 17/75\n",
            "75/75 [==============================] - 1s 13ms/step - loss: 0.0034 - accuracy: 0.9143 - val_loss: 0.0057 - val_accuracy: 0.8530\n",
            "WARNING:tensorflow:Can save best model only with val_acc available, skipping.\n",
            "WARNING:tensorflow:Early stopping conditioned on metric `val_acc` which is not available. Available metrics are: loss,accuracy,val_loss,val_accuracy\n",
            "Epoch 18/75\n",
            "75/75 [==============================] - 1s 13ms/step - loss: 0.0032 - accuracy: 0.9189 - val_loss: 0.0051 - val_accuracy: 0.8672\n",
            "WARNING:tensorflow:Can save best model only with val_acc available, skipping.\n",
            "WARNING:tensorflow:Early stopping conditioned on metric `val_acc` which is not available. Available metrics are: loss,accuracy,val_loss,val_accuracy\n",
            "Epoch 19/75\n",
            "75/75 [==============================] - 1s 13ms/step - loss: 0.0031 - accuracy: 0.9216 - val_loss: 0.0043 - val_accuracy: 0.8897\n",
            "WARNING:tensorflow:Can save best model only with val_acc available, skipping.\n",
            "WARNING:tensorflow:Early stopping conditioned on metric `val_acc` which is not available. Available metrics are: loss,accuracy,val_loss,val_accuracy\n",
            "Epoch 20/75\n",
            "75/75 [==============================] - 1s 13ms/step - loss: 0.0028 - accuracy: 0.9283 - val_loss: 0.0049 - val_accuracy: 0.8663\n",
            "WARNING:tensorflow:Can save best model only with val_acc available, skipping.\n",
            "WARNING:tensorflow:Early stopping conditioned on metric `val_acc` which is not available. Available metrics are: loss,accuracy,val_loss,val_accuracy\n",
            "Epoch 21/75\n",
            "75/75 [==============================] - 1s 13ms/step - loss: 0.0026 - accuracy: 0.9340 - val_loss: 0.0044 - val_accuracy: 0.8755\n",
            "WARNING:tensorflow:Can save best model only with val_acc available, skipping.\n",
            "WARNING:tensorflow:Early stopping conditioned on metric `val_acc` which is not available. Available metrics are: loss,accuracy,val_loss,val_accuracy\n",
            "Epoch 22/75\n",
            "75/75 [==============================] - 1s 13ms/step - loss: 0.0024 - accuracy: 0.9400 - val_loss: 0.0042 - val_accuracy: 0.8906\n",
            "WARNING:tensorflow:Can save best model only with val_acc available, skipping.\n",
            "WARNING:tensorflow:Early stopping conditioned on metric `val_acc` which is not available. Available metrics are: loss,accuracy,val_loss,val_accuracy\n",
            "Epoch 23/75\n",
            "75/75 [==============================] - 1s 13ms/step - loss: 0.0023 - accuracy: 0.9421 - val_loss: 0.0042 - val_accuracy: 0.8864\n",
            "WARNING:tensorflow:Can save best model only with val_acc available, skipping.\n",
            "WARNING:tensorflow:Early stopping conditioned on metric `val_acc` which is not available. Available metrics are: loss,accuracy,val_loss,val_accuracy\n",
            "Epoch 24/75\n",
            "75/75 [==============================] - 1s 13ms/step - loss: 0.0020 - accuracy: 0.9497 - val_loss: 0.0039 - val_accuracy: 0.8989\n",
            "WARNING:tensorflow:Can save best model only with val_acc available, skipping.\n",
            "WARNING:tensorflow:Early stopping conditioned on metric `val_acc` which is not available. Available metrics are: loss,accuracy,val_loss,val_accuracy\n",
            "Epoch 25/75\n",
            "75/75 [==============================] - 1s 13ms/step - loss: 0.0022 - accuracy: 0.9426 - val_loss: 0.0038 - val_accuracy: 0.9006\n",
            "WARNING:tensorflow:Can save best model only with val_acc available, skipping.\n",
            "WARNING:tensorflow:Early stopping conditioned on metric `val_acc` which is not available. Available metrics are: loss,accuracy,val_loss,val_accuracy\n",
            "Epoch 26/75\n",
            "75/75 [==============================] - 1s 13ms/step - loss: 0.0020 - accuracy: 0.9500 - val_loss: 0.0037 - val_accuracy: 0.9073\n",
            "WARNING:tensorflow:Can save best model only with val_acc available, skipping.\n",
            "WARNING:tensorflow:Early stopping conditioned on metric `val_acc` which is not available. Available metrics are: loss,accuracy,val_loss,val_accuracy\n",
            "Epoch 27/75\n",
            "75/75 [==============================] - 1s 13ms/step - loss: 0.0021 - accuracy: 0.9475 - val_loss: 0.0036 - val_accuracy: 0.9023\n",
            "WARNING:tensorflow:Can save best model only with val_acc available, skipping.\n",
            "WARNING:tensorflow:Early stopping conditioned on metric `val_acc` which is not available. Available metrics are: loss,accuracy,val_loss,val_accuracy\n",
            "Epoch 28/75\n",
            "75/75 [==============================] - 1s 13ms/step - loss: 0.0020 - accuracy: 0.9497 - val_loss: 0.0039 - val_accuracy: 0.8947\n",
            "WARNING:tensorflow:Can save best model only with val_acc available, skipping.\n",
            "WARNING:tensorflow:Early stopping conditioned on metric `val_acc` which is not available. Available metrics are: loss,accuracy,val_loss,val_accuracy\n",
            "Epoch 29/75\n",
            "75/75 [==============================] - 1s 13ms/step - loss: 0.0021 - accuracy: 0.9487 - val_loss: 0.0037 - val_accuracy: 0.9031\n",
            "WARNING:tensorflow:Can save best model only with val_acc available, skipping.\n",
            "WARNING:tensorflow:Early stopping conditioned on metric `val_acc` which is not available. Available metrics are: loss,accuracy,val_loss,val_accuracy\n",
            "Epoch 30/75\n",
            "75/75 [==============================] - 1s 13ms/step - loss: 0.0020 - accuracy: 0.9491 - val_loss: 0.0032 - val_accuracy: 0.9148\n",
            "WARNING:tensorflow:Can save best model only with val_acc available, skipping.\n",
            "WARNING:tensorflow:Early stopping conditioned on metric `val_acc` which is not available. Available metrics are: loss,accuracy,val_loss,val_accuracy\n",
            "Epoch 31/75\n",
            "75/75 [==============================] - 1s 13ms/step - loss: 0.0017 - accuracy: 0.9566 - val_loss: 0.0030 - val_accuracy: 0.9215\n",
            "WARNING:tensorflow:Can save best model only with val_acc available, skipping.\n",
            "WARNING:tensorflow:Early stopping conditioned on metric `val_acc` which is not available. Available metrics are: loss,accuracy,val_loss,val_accuracy\n",
            "Epoch 32/75\n",
            "75/75 [==============================] - 1s 13ms/step - loss: 0.0014 - accuracy: 0.9626 - val_loss: 0.0027 - val_accuracy: 0.9307\n",
            "WARNING:tensorflow:Can save best model only with val_acc available, skipping.\n",
            "WARNING:tensorflow:Early stopping conditioned on metric `val_acc` which is not available. Available metrics are: loss,accuracy,val_loss,val_accuracy\n",
            "Epoch 33/75\n",
            "75/75 [==============================] - 1s 13ms/step - loss: 0.0017 - accuracy: 0.9562 - val_loss: 0.0033 - val_accuracy: 0.9181\n",
            "WARNING:tensorflow:Can save best model only with val_acc available, skipping.\n",
            "WARNING:tensorflow:Early stopping conditioned on metric `val_acc` which is not available. Available metrics are: loss,accuracy,val_loss,val_accuracy\n",
            "Epoch 34/75\n",
            "75/75 [==============================] - 1s 13ms/step - loss: 0.0017 - accuracy: 0.9552 - val_loss: 0.0033 - val_accuracy: 0.9114\n",
            "WARNING:tensorflow:Can save best model only with val_acc available, skipping.\n",
            "WARNING:tensorflow:Early stopping conditioned on metric `val_acc` which is not available. Available metrics are: loss,accuracy,val_loss,val_accuracy\n",
            "Epoch 35/75\n",
            "75/75 [==============================] - 1s 13ms/step - loss: 0.0017 - accuracy: 0.9554 - val_loss: 0.0031 - val_accuracy: 0.9181\n",
            "WARNING:tensorflow:Can save best model only with val_acc available, skipping.\n",
            "WARNING:tensorflow:Early stopping conditioned on metric `val_acc` which is not available. Available metrics are: loss,accuracy,val_loss,val_accuracy\n",
            "Epoch 36/75\n",
            "75/75 [==============================] - 1s 13ms/step - loss: 0.0014 - accuracy: 0.9637 - val_loss: 0.0027 - val_accuracy: 0.9315\n",
            "WARNING:tensorflow:Can save best model only with val_acc available, skipping.\n",
            "WARNING:tensorflow:Early stopping conditioned on metric `val_acc` which is not available. Available metrics are: loss,accuracy,val_loss,val_accuracy\n",
            "Epoch 37/75\n",
            "75/75 [==============================] - 1s 13ms/step - loss: 0.0012 - accuracy: 0.9686 - val_loss: 0.0023 - val_accuracy: 0.9382\n",
            "WARNING:tensorflow:Can save best model only with val_acc available, skipping.\n",
            "WARNING:tensorflow:Early stopping conditioned on metric `val_acc` which is not available. Available metrics are: loss,accuracy,val_loss,val_accuracy\n",
            "Epoch 38/75\n",
            "75/75 [==============================] - 1s 13ms/step - loss: 0.0012 - accuracy: 0.9702 - val_loss: 0.0025 - val_accuracy: 0.9390\n",
            "WARNING:tensorflow:Can save best model only with val_acc available, skipping.\n",
            "WARNING:tensorflow:Early stopping conditioned on metric `val_acc` which is not available. Available metrics are: loss,accuracy,val_loss,val_accuracy\n",
            "Epoch 39/75\n",
            "75/75 [==============================] - 1s 13ms/step - loss: 0.0014 - accuracy: 0.9635 - val_loss: 0.0024 - val_accuracy: 0.9398\n",
            "WARNING:tensorflow:Can save best model only with val_acc available, skipping.\n",
            "WARNING:tensorflow:Early stopping conditioned on metric `val_acc` which is not available. Available metrics are: loss,accuracy,val_loss,val_accuracy\n",
            "Epoch 40/75\n",
            "75/75 [==============================] - 1s 13ms/step - loss: 0.0014 - accuracy: 0.9659 - val_loss: 0.0028 - val_accuracy: 0.9315\n",
            "WARNING:tensorflow:Can save best model only with val_acc available, skipping.\n",
            "WARNING:tensorflow:Early stopping conditioned on metric `val_acc` which is not available. Available metrics are: loss,accuracy,val_loss,val_accuracy\n",
            "Epoch 41/75\n",
            "75/75 [==============================] - 1s 13ms/step - loss: 0.0012 - accuracy: 0.9714 - val_loss: 0.0024 - val_accuracy: 0.9398\n",
            "WARNING:tensorflow:Can save best model only with val_acc available, skipping.\n",
            "WARNING:tensorflow:Early stopping conditioned on metric `val_acc` which is not available. Available metrics are: loss,accuracy,val_loss,val_accuracy\n",
            "Epoch 42/75\n",
            "75/75 [==============================] - 1s 13ms/step - loss: 0.0013 - accuracy: 0.9684 - val_loss: 0.0029 - val_accuracy: 0.9256\n",
            "WARNING:tensorflow:Can save best model only with val_acc available, skipping.\n",
            "WARNING:tensorflow:Early stopping conditioned on metric `val_acc` which is not available. Available metrics are: loss,accuracy,val_loss,val_accuracy\n",
            "Epoch 43/75\n",
            "75/75 [==============================] - 1s 13ms/step - loss: 0.0012 - accuracy: 0.9695 - val_loss: 0.0023 - val_accuracy: 0.9407\n",
            "WARNING:tensorflow:Can save best model only with val_acc available, skipping.\n",
            "WARNING:tensorflow:Early stopping conditioned on metric `val_acc` which is not available. Available metrics are: loss,accuracy,val_loss,val_accuracy\n",
            "Epoch 44/75\n",
            "75/75 [==============================] - 1s 13ms/step - loss: 0.0011 - accuracy: 0.9726 - val_loss: 0.0023 - val_accuracy: 0.9382\n",
            "WARNING:tensorflow:Can save best model only with val_acc available, skipping.\n",
            "WARNING:tensorflow:Early stopping conditioned on metric `val_acc` which is not available. Available metrics are: loss,accuracy,val_loss,val_accuracy\n",
            "Epoch 45/75\n",
            "75/75 [==============================] - 1s 13ms/step - loss: 9.1921e-04 - accuracy: 0.9767 - val_loss: 0.0027 - val_accuracy: 0.9273\n",
            "WARNING:tensorflow:Can save best model only with val_acc available, skipping.\n",
            "WARNING:tensorflow:Early stopping conditioned on metric `val_acc` which is not available. Available metrics are: loss,accuracy,val_loss,val_accuracy\n",
            "Epoch 46/75\n",
            "75/75 [==============================] - 1s 13ms/step - loss: 0.0011 - accuracy: 0.9705 - val_loss: 0.0024 - val_accuracy: 0.9382\n",
            "WARNING:tensorflow:Can save best model only with val_acc available, skipping.\n",
            "WARNING:tensorflow:Early stopping conditioned on metric `val_acc` which is not available. Available metrics are: loss,accuracy,val_loss,val_accuracy\n",
            "Epoch 47/75\n",
            "75/75 [==============================] - 1s 13ms/step - loss: 0.0012 - accuracy: 0.9714 - val_loss: 0.0020 - val_accuracy: 0.9490\n",
            "WARNING:tensorflow:Can save best model only with val_acc available, skipping.\n",
            "WARNING:tensorflow:Early stopping conditioned on metric `val_acc` which is not available. Available metrics are: loss,accuracy,val_loss,val_accuracy\n",
            "Epoch 48/75\n",
            "75/75 [==============================] - 1s 13ms/step - loss: 0.0014 - accuracy: 0.9658 - val_loss: 0.0030 - val_accuracy: 0.9198\n",
            "WARNING:tensorflow:Can save best model only with val_acc available, skipping.\n",
            "WARNING:tensorflow:Early stopping conditioned on metric `val_acc` which is not available. Available metrics are: loss,accuracy,val_loss,val_accuracy\n",
            "Epoch 49/75\n",
            "75/75 [==============================] - 1s 13ms/step - loss: 0.0014 - accuracy: 0.9654 - val_loss: 0.0022 - val_accuracy: 0.9440\n",
            "WARNING:tensorflow:Can save best model only with val_acc available, skipping.\n",
            "WARNING:tensorflow:Early stopping conditioned on metric `val_acc` which is not available. Available metrics are: loss,accuracy,val_loss,val_accuracy\n",
            "Epoch 50/75\n",
            "75/75 [==============================] - 1s 13ms/step - loss: 0.0011 - accuracy: 0.9715 - val_loss: 0.0021 - val_accuracy: 0.9474\n",
            "WARNING:tensorflow:Can save best model only with val_acc available, skipping.\n",
            "WARNING:tensorflow:Early stopping conditioned on metric `val_acc` which is not available. Available metrics are: loss,accuracy,val_loss,val_accuracy\n",
            "Epoch 51/75\n",
            "75/75 [==============================] - 1s 14ms/step - loss: 9.5785e-04 - accuracy: 0.9763 - val_loss: 0.0018 - val_accuracy: 0.9507\n",
            "WARNING:tensorflow:Can save best model only with val_acc available, skipping.\n",
            "WARNING:tensorflow:Early stopping conditioned on metric `val_acc` which is not available. Available metrics are: loss,accuracy,val_loss,val_accuracy\n",
            "Epoch 52/75\n",
            "75/75 [==============================] - 1s 13ms/step - loss: 0.0011 - accuracy: 0.9730 - val_loss: 0.0024 - val_accuracy: 0.9382\n",
            "WARNING:tensorflow:Can save best model only with val_acc available, skipping.\n",
            "WARNING:tensorflow:Early stopping conditioned on metric `val_acc` which is not available. Available metrics are: loss,accuracy,val_loss,val_accuracy\n",
            "Epoch 53/75\n",
            "75/75 [==============================] - 1s 13ms/step - loss: 0.0013 - accuracy: 0.9683 - val_loss: 0.0023 - val_accuracy: 0.9432\n",
            "WARNING:tensorflow:Can save best model only with val_acc available, skipping.\n",
            "WARNING:tensorflow:Early stopping conditioned on metric `val_acc` which is not available. Available metrics are: loss,accuracy,val_loss,val_accuracy\n",
            "Epoch 54/75\n",
            "75/75 [==============================] - 1s 13ms/step - loss: 0.0012 - accuracy: 0.9682 - val_loss: 0.0025 - val_accuracy: 0.9357\n",
            "WARNING:tensorflow:Can save best model only with val_acc available, skipping.\n",
            "WARNING:tensorflow:Early stopping conditioned on metric `val_acc` which is not available. Available metrics are: loss,accuracy,val_loss,val_accuracy\n",
            "Epoch 55/75\n",
            "75/75 [==============================] - 1s 13ms/step - loss: 9.8687e-04 - accuracy: 0.9748 - val_loss: 0.0022 - val_accuracy: 0.9415\n",
            "WARNING:tensorflow:Can save best model only with val_acc available, skipping.\n",
            "WARNING:tensorflow:Early stopping conditioned on metric `val_acc` which is not available. Available metrics are: loss,accuracy,val_loss,val_accuracy\n",
            "Epoch 56/75\n",
            "75/75 [==============================] - 1s 13ms/step - loss: 0.0010 - accuracy: 0.9744 - val_loss: 0.0023 - val_accuracy: 0.9415\n",
            "WARNING:tensorflow:Can save best model only with val_acc available, skipping.\n",
            "WARNING:tensorflow:Early stopping conditioned on metric `val_acc` which is not available. Available metrics are: loss,accuracy,val_loss,val_accuracy\n",
            "Epoch 57/75\n",
            "75/75 [==============================] - 1s 14ms/step - loss: 9.5549e-04 - accuracy: 0.9769 - val_loss: 0.0020 - val_accuracy: 0.9499\n",
            "WARNING:tensorflow:Can save best model only with val_acc available, skipping.\n",
            "WARNING:tensorflow:Early stopping conditioned on metric `val_acc` which is not available. Available metrics are: loss,accuracy,val_loss,val_accuracy\n",
            "Epoch 58/75\n",
            "75/75 [==============================] - 1s 13ms/step - loss: 0.0012 - accuracy: 0.9701 - val_loss: 0.0023 - val_accuracy: 0.9390\n",
            "WARNING:tensorflow:Can save best model only with val_acc available, skipping.\n",
            "WARNING:tensorflow:Early stopping conditioned on metric `val_acc` which is not available. Available metrics are: loss,accuracy,val_loss,val_accuracy\n",
            "Epoch 59/75\n",
            "75/75 [==============================] - 1s 13ms/step - loss: 0.0011 - accuracy: 0.9713 - val_loss: 0.0019 - val_accuracy: 0.9524\n",
            "WARNING:tensorflow:Can save best model only with val_acc available, skipping.\n",
            "WARNING:tensorflow:Early stopping conditioned on metric `val_acc` which is not available. Available metrics are: loss,accuracy,val_loss,val_accuracy\n",
            "Epoch 60/75\n",
            "75/75 [==============================] - 1s 13ms/step - loss: 9.7731e-04 - accuracy: 0.9749 - val_loss: 0.0023 - val_accuracy: 0.9407\n",
            "WARNING:tensorflow:Can save best model only with val_acc available, skipping.\n",
            "WARNING:tensorflow:Early stopping conditioned on metric `val_acc` which is not available. Available metrics are: loss,accuracy,val_loss,val_accuracy\n",
            "Epoch 61/75\n",
            "75/75 [==============================] - 1s 13ms/step - loss: 9.0542e-04 - accuracy: 0.9777 - val_loss: 0.0020 - val_accuracy: 0.9490\n",
            "WARNING:tensorflow:Can save best model only with val_acc available, skipping.\n",
            "WARNING:tensorflow:Early stopping conditioned on metric `val_acc` which is not available. Available metrics are: loss,accuracy,val_loss,val_accuracy\n",
            "Epoch 62/75\n",
            "75/75 [==============================] - 1s 13ms/step - loss: 0.0021 - accuracy: 0.9477 - val_loss: 0.0023 - val_accuracy: 0.9457\n",
            "WARNING:tensorflow:Can save best model only with val_acc available, skipping.\n",
            "WARNING:tensorflow:Early stopping conditioned on metric `val_acc` which is not available. Available metrics are: loss,accuracy,val_loss,val_accuracy\n",
            "Epoch 63/75\n",
            "75/75 [==============================] - 1s 13ms/step - loss: 0.0015 - accuracy: 0.9655 - val_loss: 0.0032 - val_accuracy: 0.9223\n",
            "WARNING:tensorflow:Can save best model only with val_acc available, skipping.\n",
            "WARNING:tensorflow:Early stopping conditioned on metric `val_acc` which is not available. Available metrics are: loss,accuracy,val_loss,val_accuracy\n",
            "Epoch 64/75\n",
            "75/75 [==============================] - 1s 13ms/step - loss: 0.0011 - accuracy: 0.9733 - val_loss: 0.0017 - val_accuracy: 0.9566\n",
            "WARNING:tensorflow:Can save best model only with val_acc available, skipping.\n",
            "WARNING:tensorflow:Early stopping conditioned on metric `val_acc` which is not available. Available metrics are: loss,accuracy,val_loss,val_accuracy\n",
            "Epoch 65/75\n",
            "75/75 [==============================] - 1s 13ms/step - loss: 0.0010 - accuracy: 0.9738 - val_loss: 0.0016 - val_accuracy: 0.9574\n",
            "WARNING:tensorflow:Can save best model only with val_acc available, skipping.\n",
            "WARNING:tensorflow:Early stopping conditioned on metric `val_acc` which is not available. Available metrics are: loss,accuracy,val_loss,val_accuracy\n",
            "Epoch 66/75\n",
            "75/75 [==============================] - 1s 13ms/step - loss: 9.1862e-04 - accuracy: 0.9774 - val_loss: 0.0013 - val_accuracy: 0.9649\n",
            "WARNING:tensorflow:Can save best model only with val_acc available, skipping.\n",
            "WARNING:tensorflow:Early stopping conditioned on metric `val_acc` which is not available. Available metrics are: loss,accuracy,val_loss,val_accuracy\n",
            "Epoch 67/75\n",
            "75/75 [==============================] - 1s 14ms/step - loss: 7.4980e-04 - accuracy: 0.9808 - val_loss: 0.0016 - val_accuracy: 0.9591\n",
            "WARNING:tensorflow:Can save best model only with val_acc available, skipping.\n",
            "WARNING:tensorflow:Early stopping conditioned on metric `val_acc` which is not available. Available metrics are: loss,accuracy,val_loss,val_accuracy\n",
            "Epoch 68/75\n",
            "75/75 [==============================] - 1s 13ms/step - loss: 9.4509e-04 - accuracy: 0.9769 - val_loss: 0.0014 - val_accuracy: 0.9632\n",
            "WARNING:tensorflow:Can save best model only with val_acc available, skipping.\n",
            "WARNING:tensorflow:Early stopping conditioned on metric `val_acc` which is not available. Available metrics are: loss,accuracy,val_loss,val_accuracy\n",
            "Epoch 69/75\n",
            "75/75 [==============================] - 1s 14ms/step - loss: 7.2975e-04 - accuracy: 0.9817 - val_loss: 0.0015 - val_accuracy: 0.9607\n",
            "WARNING:tensorflow:Can save best model only with val_acc available, skipping.\n",
            "WARNING:tensorflow:Early stopping conditioned on metric `val_acc` which is not available. Available metrics are: loss,accuracy,val_loss,val_accuracy\n",
            "Epoch 70/75\n",
            "75/75 [==============================] - 1s 13ms/step - loss: 5.5388e-04 - accuracy: 0.9859 - val_loss: 0.0011 - val_accuracy: 0.9708\n",
            "WARNING:tensorflow:Can save best model only with val_acc available, skipping.\n",
            "WARNING:tensorflow:Early stopping conditioned on metric `val_acc` which is not available. Available metrics are: loss,accuracy,val_loss,val_accuracy\n",
            "Epoch 71/75\n",
            "75/75 [==============================] - 1s 13ms/step - loss: 5.6291e-04 - accuracy: 0.9861 - val_loss: 0.0012 - val_accuracy: 0.9674\n",
            "WARNING:tensorflow:Can save best model only with val_acc available, skipping.\n",
            "WARNING:tensorflow:Early stopping conditioned on metric `val_acc` which is not available. Available metrics are: loss,accuracy,val_loss,val_accuracy\n",
            "Epoch 72/75\n",
            "75/75 [==============================] - 1s 13ms/step - loss: 4.8864e-04 - accuracy: 0.9878 - val_loss: 0.0012 - val_accuracy: 0.9724\n",
            "WARNING:tensorflow:Can save best model only with val_acc available, skipping.\n",
            "WARNING:tensorflow:Early stopping conditioned on metric `val_acc` which is not available. Available metrics are: loss,accuracy,val_loss,val_accuracy\n",
            "Epoch 73/75\n",
            "75/75 [==============================] - 1s 14ms/step - loss: 6.8490e-04 - accuracy: 0.9833 - val_loss: 0.0012 - val_accuracy: 0.9674\n",
            "WARNING:tensorflow:Can save best model only with val_acc available, skipping.\n",
            "WARNING:tensorflow:Early stopping conditioned on metric `val_acc` which is not available. Available metrics are: loss,accuracy,val_loss,val_accuracy\n",
            "Epoch 74/75\n",
            "75/75 [==============================] - 1s 13ms/step - loss: 9.9378e-04 - accuracy: 0.9744 - val_loss: 0.0024 - val_accuracy: 0.9340\n",
            "WARNING:tensorflow:Can save best model only with val_acc available, skipping.\n",
            "WARNING:tensorflow:Early stopping conditioned on metric `val_acc` which is not available. Available metrics are: loss,accuracy,val_loss,val_accuracy\n",
            "Epoch 75/75\n",
            "75/75 [==============================] - 1s 14ms/step - loss: 0.0011 - accuracy: 0.9724 - val_loss: 0.0024 - val_accuracy: 0.9398\n",
            "WARNING:tensorflow:Can save best model only with val_acc available, skipping.\n",
            "WARNING:tensorflow:Early stopping conditioned on metric `val_acc` which is not available. Available metrics are: loss,accuracy,val_loss,val_accuracy\n"
          ],
          "name": "stdout"
        }
      ]
    },
    {
      "cell_type": "code",
      "metadata": {
        "colab": {
          "base_uri": "https://localhost:8080/",
          "height": 607
        },
        "id": "UchiVEgvsqR1",
        "outputId": "64bd4c58-491c-4066-f2be-126663369648"
      },
      "source": [
        "print(conv.evaluate(x_test, y_test))\n",
        "del(conv)\n",
        "plotter('conv1d')"
      ],
      "execution_count": 15,
      "outputs": [
        {
          "output_type": "stream",
          "text": [
            "38/38 [==============================] - 0s 7ms/step - loss: 0.0021 - accuracy: 0.9440\n",
            "[0.002113369759172201, 0.9440267086029053]\n"
          ],
          "name": "stdout"
        },
        {
          "output_type": "display_data",
          "data": {
            "image/png": "[encoded data removed]",
            "text/plain": [
              "<Figure size 432x288 with 1 Axes>"
            ]
          },
          "metadata": {
            "tags": [],
            "needs_background": "light"
          }
        },
        {
          "output_type": "display_data",
          "data": {
            "image/png": "[encoded data removed]",
            "text/plain": [
              "<Figure size 432x288 with 1 Axes>"
            ]
          },
          "metadata": {
            "tags": [],
            "needs_background": "light"
          }
        }
      ]
    },
    {
      "cell_type": "code",
      "metadata": {
        "id": "FGl6DiEEYdZh"
      },
      "source": [
        "bi_enc = biLSTM()"
      ],
      "execution_count": 20,
      "outputs": []
    },
    {
      "cell_type": "code",
      "metadata": {
        "id": "FsHrLOzKtVsw",
        "outputId": "c5db23df-7d88-4025-eed2-b814ab24d4c7",
        "colab": {
          "base_uri": "https://localhost:8080/"
        }
      },
      "source": [
        "history = bi_enc.fit(x_train, y_train, batch_size=128, epochs=40, callbacks=[modelcheckpoint, earlystopping], validation_data=(x_test, y_test))"
      ],
      "execution_count": 21,
      "outputs": [
        {
          "output_type": "stream",
          "text": [
            "Epoch 1/40\n",
            "75/75 [==============================] - 15s 53ms/step - loss: 3.3782 - accuracy: 0.1255 - val_loss: 1.9393 - val_accuracy: 0.3693\n",
            "WARNING:tensorflow:Can save best model only with val_acc available, skipping.\n",
            "WARNING:tensorflow:Early stopping conditioned on metric `val_acc` which is not available. Available metrics are: loss,accuracy,val_loss,val_accuracy\n",
            "Epoch 2/40\n",
            "75/75 [==============================] - 3s 36ms/step - loss: 1.6374 - accuracy: 0.4792 - val_loss: 1.1421 - val_accuracy: 0.6391\n",
            "WARNING:tensorflow:Can save best model only with val_acc available, skipping.\n",
            "WARNING:tensorflow:Early stopping conditioned on metric `val_acc` which is not available. Available metrics are: loss,accuracy,val_loss,val_accuracy\n",
            "Epoch 3/40\n",
            "75/75 [==============================] - 3s 36ms/step - loss: 0.9837 - accuracy: 0.7073 - val_loss: 0.8446 - val_accuracy: 0.7218\n",
            "WARNING:tensorflow:Can save best model only with val_acc available, skipping.\n",
            "WARNING:tensorflow:Early stopping conditioned on metric `val_acc` which is not available. Available metrics are: loss,accuracy,val_loss,val_accuracy\n",
            "Epoch 4/40\n",
            "75/75 [==============================] - 3s 36ms/step - loss: 0.7110 - accuracy: 0.7849 - val_loss: 0.5997 - val_accuracy: 0.8129\n",
            "WARNING:tensorflow:Can save best model only with val_acc available, skipping.\n",
            "WARNING:tensorflow:Early stopping conditioned on metric `val_acc` which is not available. Available metrics are: loss,accuracy,val_loss,val_accuracy\n",
            "Epoch 5/40\n",
            "75/75 [==============================] - 3s 36ms/step - loss: 0.4774 - accuracy: 0.8606 - val_loss: 0.6762 - val_accuracy: 0.7845\n",
            "WARNING:tensorflow:Can save best model only with val_acc available, skipping.\n",
            "WARNING:tensorflow:Early stopping conditioned on metric `val_acc` which is not available. Available metrics are: loss,accuracy,val_loss,val_accuracy\n",
            "Epoch 6/40\n",
            "75/75 [==============================] - 3s 37ms/step - loss: 0.4638 - accuracy: 0.8692 - val_loss: 0.3979 - val_accuracy: 0.8780\n",
            "WARNING:tensorflow:Can save best model only with val_acc available, skipping.\n",
            "WARNING:tensorflow:Early stopping conditioned on metric `val_acc` which is not available. Available metrics are: loss,accuracy,val_loss,val_accuracy\n",
            "Epoch 7/40\n",
            "75/75 [==============================] - 3s 37ms/step - loss: 0.2444 - accuracy: 0.9386 - val_loss: 0.3254 - val_accuracy: 0.9048\n",
            "WARNING:tensorflow:Can save best model only with val_acc available, skipping.\n",
            "WARNING:tensorflow:Early stopping conditioned on metric `val_acc` which is not available. Available metrics are: loss,accuracy,val_loss,val_accuracy\n",
            "Epoch 8/40\n",
            "75/75 [==============================] - 3s 37ms/step - loss: 0.2085 - accuracy: 0.9419 - val_loss: 0.2721 - val_accuracy: 0.9148\n",
            "WARNING:tensorflow:Can save best model only with val_acc available, skipping.\n",
            "WARNING:tensorflow:Early stopping conditioned on metric `val_acc` which is not available. Available metrics are: loss,accuracy,val_loss,val_accuracy\n",
            "Epoch 9/40\n",
            "75/75 [==============================] - 3s 37ms/step - loss: 0.1627 - accuracy: 0.9585 - val_loss: 0.2626 - val_accuracy: 0.9181\n",
            "WARNING:tensorflow:Can save best model only with val_acc available, skipping.\n",
            "WARNING:tensorflow:Early stopping conditioned on metric `val_acc` which is not available. Available metrics are: loss,accuracy,val_loss,val_accuracy\n",
            "Epoch 10/40\n",
            "75/75 [==============================] - 3s 37ms/step - loss: 0.1264 - accuracy: 0.9727 - val_loss: 0.1750 - val_accuracy: 0.9599\n",
            "WARNING:tensorflow:Can save best model only with val_acc available, skipping.\n",
            "WARNING:tensorflow:Early stopping conditioned on metric `val_acc` which is not available. Available metrics are: loss,accuracy,val_loss,val_accuracy\n",
            "Epoch 11/40\n",
            "75/75 [==============================] - 3s 36ms/step - loss: 0.0817 - accuracy: 0.9841 - val_loss: 0.2016 - val_accuracy: 0.9465\n",
            "WARNING:tensorflow:Can save best model only with val_acc available, skipping.\n",
            "WARNING:tensorflow:Early stopping conditioned on metric `val_acc` which is not available. Available metrics are: loss,accuracy,val_loss,val_accuracy\n",
            "Epoch 12/40\n",
            "75/75 [==============================] - 3s 36ms/step - loss: 0.0856 - accuracy: 0.9775 - val_loss: 0.1673 - val_accuracy: 0.9591\n",
            "WARNING:tensorflow:Can save best model only with val_acc available, skipping.\n",
            "WARNING:tensorflow:Early stopping conditioned on metric `val_acc` which is not available. Available metrics are: loss,accuracy,val_loss,val_accuracy\n",
            "Epoch 13/40\n",
            "75/75 [==============================] - 3s 36ms/step - loss: 0.0713 - accuracy: 0.9840 - val_loss: 0.1294 - val_accuracy: 0.9607\n",
            "WARNING:tensorflow:Can save best model only with val_acc available, skipping.\n",
            "WARNING:tensorflow:Early stopping conditioned on metric `val_acc` which is not available. Available metrics are: loss,accuracy,val_loss,val_accuracy\n",
            "Epoch 14/40\n",
            "75/75 [==============================] - 3s 37ms/step - loss: 0.0710 - accuracy: 0.9830 - val_loss: 0.1372 - val_accuracy: 0.9607\n",
            "WARNING:tensorflow:Can save best model only with val_acc available, skipping.\n",
            "WARNING:tensorflow:Early stopping conditioned on metric `val_acc` which is not available. Available metrics are: loss,accuracy,val_loss,val_accuracy\n",
            "Epoch 15/40\n",
            "75/75 [==============================] - 3s 36ms/step - loss: 0.0519 - accuracy: 0.9867 - val_loss: 0.5473 - val_accuracy: 0.8906\n",
            "WARNING:tensorflow:Can save best model only with val_acc available, skipping.\n",
            "WARNING:tensorflow:Early stopping conditioned on metric `val_acc` which is not available. Available metrics are: loss,accuracy,val_loss,val_accuracy\n",
            "Epoch 16/40\n",
            "75/75 [==============================] - 3s 36ms/step - loss: 0.2065 - accuracy: 0.9461 - val_loss: 0.1652 - val_accuracy: 0.9532\n",
            "WARNING:tensorflow:Can save best model only with val_acc available, skipping.\n",
            "WARNING:tensorflow:Early stopping conditioned on metric `val_acc` which is not available. Available metrics are: loss,accuracy,val_loss,val_accuracy\n",
            "Epoch 17/40\n",
            "75/75 [==============================] - 3s 36ms/step - loss: 0.0559 - accuracy: 0.9881 - val_loss: 0.1095 - val_accuracy: 0.9716\n",
            "WARNING:tensorflow:Can save best model only with val_acc available, skipping.\n",
            "WARNING:tensorflow:Early stopping conditioned on metric `val_acc` which is not available. Available metrics are: loss,accuracy,val_loss,val_accuracy\n",
            "Epoch 18/40\n",
            "75/75 [==============================] - 3s 37ms/step - loss: 0.0333 - accuracy: 0.9937 - val_loss: 0.1702 - val_accuracy: 0.9490\n",
            "WARNING:tensorflow:Can save best model only with val_acc available, skipping.\n",
            "WARNING:tensorflow:Early stopping conditioned on metric `val_acc` which is not available. Available metrics are: loss,accuracy,val_loss,val_accuracy\n",
            "Epoch 19/40\n",
            "75/75 [==============================] - 3s 36ms/step - loss: 0.0879 - accuracy: 0.9764 - val_loss: 0.1423 - val_accuracy: 0.9591\n",
            "WARNING:tensorflow:Can save best model only with val_acc available, skipping.\n",
            "WARNING:tensorflow:Early stopping conditioned on metric `val_acc` which is not available. Available metrics are: loss,accuracy,val_loss,val_accuracy\n",
            "Epoch 20/40\n",
            "75/75 [==============================] - 3s 36ms/step - loss: 0.0514 - accuracy: 0.9879 - val_loss: 0.1420 - val_accuracy: 0.9557\n",
            "WARNING:tensorflow:Can save best model only with val_acc available, skipping.\n",
            "WARNING:tensorflow:Early stopping conditioned on metric `val_acc` which is not available. Available metrics are: loss,accuracy,val_loss,val_accuracy\n",
            "Epoch 21/40\n",
            "75/75 [==============================] - 3s 36ms/step - loss: 0.0361 - accuracy: 0.9930 - val_loss: 0.0799 - val_accuracy: 0.9808\n",
            "WARNING:tensorflow:Can save best model only with val_acc available, skipping.\n",
            "WARNING:tensorflow:Early stopping conditioned on metric `val_acc` which is not available. Available metrics are: loss,accuracy,val_loss,val_accuracy\n",
            "Epoch 22/40\n",
            "75/75 [==============================] - 3s 36ms/step - loss: 0.0130 - accuracy: 0.9981 - val_loss: 0.0835 - val_accuracy: 0.9766\n",
            "WARNING:tensorflow:Can save best model only with val_acc available, skipping.\n",
            "WARNING:tensorflow:Early stopping conditioned on metric `val_acc` which is not available. Available metrics are: loss,accuracy,val_loss,val_accuracy\n",
            "Epoch 23/40\n",
            "75/75 [==============================] - 3s 36ms/step - loss: 0.0146 - accuracy: 0.9966 - val_loss: 0.1127 - val_accuracy: 0.9674\n",
            "WARNING:tensorflow:Can save best model only with val_acc available, skipping.\n",
            "WARNING:tensorflow:Early stopping conditioned on metric `val_acc` which is not available. Available metrics are: loss,accuracy,val_loss,val_accuracy\n",
            "Epoch 24/40\n",
            "75/75 [==============================] - 3s 36ms/step - loss: 0.0545 - accuracy: 0.9842 - val_loss: 0.1662 - val_accuracy: 0.9457\n",
            "WARNING:tensorflow:Can save best model only with val_acc available, skipping.\n",
            "WARNING:tensorflow:Early stopping conditioned on metric `val_acc` which is not available. Available metrics are: loss,accuracy,val_loss,val_accuracy\n",
            "Epoch 25/40\n",
            "75/75 [==============================] - 3s 36ms/step - loss: 0.0599 - accuracy: 0.9818 - val_loss: 0.1396 - val_accuracy: 0.9566\n",
            "WARNING:tensorflow:Can save best model only with val_acc available, skipping.\n",
            "WARNING:tensorflow:Early stopping conditioned on metric `val_acc` which is not available. Available metrics are: loss,accuracy,val_loss,val_accuracy\n",
            "Epoch 26/40\n",
            "75/75 [==============================] - 3s 36ms/step - loss: 0.0645 - accuracy: 0.9823 - val_loss: 0.1163 - val_accuracy: 0.9666\n",
            "WARNING:tensorflow:Can save best model only with val_acc available, skipping.\n",
            "WARNING:tensorflow:Early stopping conditioned on metric `val_acc` which is not available. Available metrics are: loss,accuracy,val_loss,val_accuracy\n",
            "Epoch 27/40\n",
            "75/75 [==============================] - 3s 37ms/step - loss: 0.0310 - accuracy: 0.9929 - val_loss: 0.0690 - val_accuracy: 0.9808\n",
            "WARNING:tensorflow:Can save best model only with val_acc available, skipping.\n",
            "WARNING:tensorflow:Early stopping conditioned on metric `val_acc` which is not available. Available metrics are: loss,accuracy,val_loss,val_accuracy\n",
            "Epoch 28/40\n",
            "75/75 [==============================] - 3s 36ms/step - loss: 0.0113 - accuracy: 0.9984 - val_loss: 0.0526 - val_accuracy: 0.9866\n",
            "WARNING:tensorflow:Can save best model only with val_acc available, skipping.\n",
            "WARNING:tensorflow:Early stopping conditioned on metric `val_acc` which is not available. Available metrics are: loss,accuracy,val_loss,val_accuracy\n",
            "Epoch 29/40\n",
            "75/75 [==============================] - 3s 37ms/step - loss: 0.0040 - accuracy: 0.9999 - val_loss: 0.0526 - val_accuracy: 0.9900\n",
            "WARNING:tensorflow:Can save best model only with val_acc available, skipping.\n",
            "WARNING:tensorflow:Early stopping conditioned on metric `val_acc` which is not available. Available metrics are: loss,accuracy,val_loss,val_accuracy\n",
            "Epoch 30/40\n",
            "75/75 [==============================] - 3s 36ms/step - loss: 0.0024 - accuracy: 1.0000 - val_loss: 0.0462 - val_accuracy: 0.9925\n",
            "WARNING:tensorflow:Can save best model only with val_acc available, skipping.\n",
            "WARNING:tensorflow:Early stopping conditioned on metric `val_acc` which is not available. Available metrics are: loss,accuracy,val_loss,val_accuracy\n",
            "Epoch 31/40\n",
            "75/75 [==============================] - 3s 36ms/step - loss: 0.0019 - accuracy: 1.0000 - val_loss: 0.0460 - val_accuracy: 0.9916\n",
            "WARNING:tensorflow:Can save best model only with val_acc available, skipping.\n",
            "WARNING:tensorflow:Early stopping conditioned on metric `val_acc` which is not available. Available metrics are: loss,accuracy,val_loss,val_accuracy\n",
            "Epoch 32/40\n",
            "75/75 [==============================] - 3s 36ms/step - loss: 0.0016 - accuracy: 1.0000 - val_loss: 0.0451 - val_accuracy: 0.9900\n",
            "WARNING:tensorflow:Can save best model only with val_acc available, skipping.\n",
            "WARNING:tensorflow:Early stopping conditioned on metric `val_acc` which is not available. Available metrics are: loss,accuracy,val_loss,val_accuracy\n",
            "Epoch 33/40\n",
            "75/75 [==============================] - 3s 37ms/step - loss: 0.0014 - accuracy: 1.0000 - val_loss: 0.0445 - val_accuracy: 0.9900\n",
            "WARNING:tensorflow:Can save best model only with val_acc available, skipping.\n",
            "WARNING:tensorflow:Early stopping conditioned on metric `val_acc` which is not available. Available metrics are: loss,accuracy,val_loss,val_accuracy\n",
            "Epoch 34/40\n",
            "75/75 [==============================] - 3s 36ms/step - loss: 0.0013 - accuracy: 1.0000 - val_loss: 0.0440 - val_accuracy: 0.9908\n",
            "WARNING:tensorflow:Can save best model only with val_acc available, skipping.\n",
            "WARNING:tensorflow:Early stopping conditioned on metric `val_acc` which is not available. Available metrics are: loss,accuracy,val_loss,val_accuracy\n",
            "Epoch 35/40\n",
            "75/75 [==============================] - 3s 37ms/step - loss: 0.0011 - accuracy: 1.0000 - val_loss: 0.0438 - val_accuracy: 0.9908\n",
            "WARNING:tensorflow:Can save best model only with val_acc available, skipping.\n",
            "WARNING:tensorflow:Early stopping conditioned on metric `val_acc` which is not available. Available metrics are: loss,accuracy,val_loss,val_accuracy\n",
            "Epoch 36/40\n",
            "75/75 [==============================] - 3s 36ms/step - loss: 9.6605e-04 - accuracy: 1.0000 - val_loss: 0.0434 - val_accuracy: 0.9916\n",
            "WARNING:tensorflow:Can save best model only with val_acc available, skipping.\n",
            "WARNING:tensorflow:Early stopping conditioned on metric `val_acc` which is not available. Available metrics are: loss,accuracy,val_loss,val_accuracy\n",
            "Epoch 37/40\n",
            "75/75 [==============================] - 3s 36ms/step - loss: 9.0802e-04 - accuracy: 1.0000 - val_loss: 0.0434 - val_accuracy: 0.9925\n",
            "WARNING:tensorflow:Can save best model only with val_acc available, skipping.\n",
            "WARNING:tensorflow:Early stopping conditioned on metric `val_acc` which is not available. Available metrics are: loss,accuracy,val_loss,val_accuracy\n",
            "Epoch 38/40\n",
            "75/75 [==============================] - 3s 37ms/step - loss: 7.9814e-04 - accuracy: 1.0000 - val_loss: 0.0433 - val_accuracy: 0.9925\n",
            "WARNING:tensorflow:Can save best model only with val_acc available, skipping.\n",
            "WARNING:tensorflow:Early stopping conditioned on metric `val_acc` which is not available. Available metrics are: loss,accuracy,val_loss,val_accuracy\n",
            "Epoch 39/40\n",
            "75/75 [==============================] - 3s 37ms/step - loss: 7.4647e-04 - accuracy: 1.0000 - val_loss: 0.0431 - val_accuracy: 0.9925\n",
            "WARNING:tensorflow:Can save best model only with val_acc available, skipping.\n",
            "WARNING:tensorflow:Early stopping conditioned on metric `val_acc` which is not available. Available metrics are: loss,accuracy,val_loss,val_accuracy\n",
            "Epoch 40/40\n",
            "75/75 [==============================] - 3s 37ms/step - loss: 6.8099e-04 - accuracy: 1.0000 - val_loss: 0.0432 - val_accuracy: 0.9916\n",
            "WARNING:tensorflow:Can save best model only with val_acc available, skipping.\n",
            "WARNING:tensorflow:Early stopping conditioned on metric `val_acc` which is not available. Available metrics are: loss,accuracy,val_loss,val_accuracy\n",
            "38/38 [==============================] - 0s 11ms/step - loss: 0.0432 - accuracy: 0.9916\n",
            "[0.04319915547966957, 0.9916457533836365]\n"
          ],
          "name": "stdout"
        }
      ]
    },
    {
      "cell_type": "code",
      "metadata": {
        "id": "XmK9HUHXaaKg",
        "outputId": "525ec9a8-545f-4c26-85fb-7ea8db680b07",
        "colab": {
          "base_uri": "https://localhost:8080/",
          "height": 607
        }
      },
      "source": [
        "print(bi_enc.evaluate(x_test, y_test))\n",
        "plotter('BILSTM')"
      ],
      "execution_count": 22,
      "outputs": [
        {
          "output_type": "stream",
          "text": [
            "38/38 [==============================] - 0s 13ms/step - loss: 0.0432 - accuracy: 0.9916\n",
            "[0.04319915547966957, 0.9916457533836365]\n"
          ],
          "name": "stdout"
        },
        {
          "output_type": "display_data",
          "data": {
            "image/png": "[encoded data removed]",
            "text/plain": [
              "<Figure size 432x288 with 1 Axes>"
            ]
          },
          "metadata": {
            "tags": [],
            "needs_background": "light"
          }
        },
        {
          "output_type": "display_data",
          "data": {
            "image/png": "[encoded data removed]",
            "text/plain": [
              "<Figure size 432x288 with 1 Axes>"
            ]
          },
          "metadata": {
            "tags": [],
            "needs_background": "light"
          }
        }
      ]
    }
  ]
}