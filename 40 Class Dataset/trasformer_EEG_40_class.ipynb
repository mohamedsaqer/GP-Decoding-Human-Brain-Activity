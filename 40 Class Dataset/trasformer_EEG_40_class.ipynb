{
  "nbformat": 4,
  "nbformat_minor": 0,
  "metadata": {
    "accelerator": "GPU",
    "colab": {
      "name": "trasformer_EEG_40_class.ipynb",
      "provenance": [],
      "collapsed_sections": []
    },
    "kernelspec": {
      "display_name": "Python 3",
      "name": "python3"
    }
  },
  "cells": [
    {
      "cell_type": "code",
      "metadata": {
        "colab": {
          "base_uri": "https://localhost:8080/"
        },
        "id": "MyyJyZ4qYYof",
        "outputId": "5d217e54-3e5d-4049-bc56-5452bfaf5466"
      },
      "source": [
        "from google.colab import drive\n",
        "drive.mount('/content/drive')"
      ],
      "execution_count": 1,
      "outputs": [
        {
          "output_type": "stream",
          "text": [
            "Mounted at /content/drive\n"
          ],
          "name": "stdout"
        }
      ]
    },
    {
      "cell_type": "code",
      "metadata": {
        "colab": {
          "base_uri": "https://localhost:8080/"
        },
        "id": "tsjNU5JIbfE0",
        "outputId": "88e1cca2-3afe-4e33-8158-69eeb013283c"
      },
      "source": [
        "!cp /content/drive/MyDrive/Dataset/eeg/data_import.py /content\n",
        "from data_import import data_load \n",
        "\n",
        "strt= 160\n",
        "flen = 320\n",
        "x_train,y_train,x_test,y_test,x_val,y_val = data_load(strt ,flen)"
      ],
      "execution_count": 14,
      "outputs": [
        {
          "output_type": "stream",
          "text": [
            "<class 'function'>\n"
          ],
          "name": "stdout"
        }
      ]
    },
    {
      "cell_type": "code",
      "metadata": {
        "id": "B2lyw6MFxz_k"
      },
      "source": [
        "from tensorflow.python.keras.backend import clear_session\n",
        "import tensorflow as tf,keras\n",
        "from tensorflow.keras import layers\n",
        "import numpy as np\n",
        "import matplotlib.pylab as plt\n",
        "import torch.utils.data as data\n",
        "#import h5py\n",
        "#import csv\n",
        "from tensorflow.python.keras.callbacks import EarlyStopping, ModelCheckpoint\n",
        "import torch\n",
        "import keras\n",
        "from tensorflow.keras.models import Sequential\n",
        "from keras.layers import Input, Dense, LSTM,Dropout\n",
        "from tensorflow.keras.utils import to_categorical\n",
        "from keras.models import Model\n",
        "from torchvision import transforms"
      ],
      "execution_count": 15,
      "outputs": []
    },
    {
      "cell_type": "code",
      "metadata": {
        "id": "2z_7weJZdsxw"
      },
      "source": [
        "y_train = to_categorical(y_train, num_classes=40)\n",
        "y_val = to_categorical(y_val, num_classes=40)\n",
        "y_test = to_categorical(y_test, num_classes=40)"
      ],
      "execution_count": 16,
      "outputs": []
    },
    {
      "cell_type": "markdown",
      "metadata": {
        "id": "W_qmjDqPUyWp"
      },
      "source": [
        "#Transformer\n"
      ]
    },
    {
      "cell_type": "code",
      "metadata": {
        "id": "6DVsdX5OxVEf"
      },
      "source": [
        "class TransformerBlock(layers.Layer):\n",
        "    def __init__(self, embed_dim, num_heads, ff_dim, rate=0):\n",
        "        super(TransformerBlock, self).__init__()\n",
        "        self.att = layers.MultiHeadAttention(num_heads=num_heads, key_dim=embed_dim)\n",
        "        self.ffn = keras.Sequential(\n",
        "            [layers.Dense(ff_dim, activation=\"relu\"), layers.Dense(embed_dim),]\n",
        "        )\n",
        "        self.layernorm1 = layers.LayerNormalization(epsilon=1e-6)\n",
        "        self.layernorm2 = layers.LayerNormalization(epsilon=1e-6)\n",
        "        \n",
        "    def call(self, inputs, training):\n",
        "        attn_output = self.att(inputs, inputs)\n",
        "        out1 = self.layernorm1(inputs + attn_output)\n",
        "        ffn_output = self.ffn(out1)        \n",
        "        return self.layernorm2(out1 + ffn_output)\n",
        "\n",
        "\n",
        "class myCallback(tf.keras.callbacks.Callback):\n",
        "\tdef on_epoch_end(self, epoch, logs={}):\n",
        "\t\tif(logs.get('val_accuracy') >= 0.995):\n",
        "\t\t\tprint(\"\\nReached %2.2f%% accuracy, so stopping training!!\" %(0.995))\n",
        "\t\t\tself.model.stop_training = True"
      ],
      "execution_count": 17,
      "outputs": []
    },
    {
      "cell_type": "code",
      "metadata": {
        "colab": {
          "base_uri": "https://localhost:8080/"
        },
        "id": "w98QGkLmU3C1",
        "outputId": "deaf10b5-cf38-42a4-f0e2-7923020ec153"
      },
      "source": [
        "num_heads = 2  # Number of attention heads\n",
        "ff_dim = 32  # Hidden layer size in feed forward network inside transformer\n",
        "\n",
        "sequence_input = tf.keras.layers.Input(shape=(x_train.shape[1], x_train.shape[2]))\n",
        "transformer_block = TransformerBlock(x_train.shape[2], num_heads, ff_dim)\n",
        "x = transformer_block(sequence_input)\n",
        "x = layers.GlobalAveragePooling1D()(x)\n",
        "x = layers.Dense(128, activation=\"relu\")(x)\n",
        "outputs = layers.Dense(40, activation=\"softmax\")(x)\n",
        "model = tf.keras.Model(inputs=sequence_input, outputs=outputs)\n",
        "model.compile(optimizer='adam', loss='categorical_crossentropy', metrics=['accuracy'])\n",
        "model.summary()"
      ],
      "execution_count": 18,
      "outputs": [
        {
          "output_type": "stream",
          "text": [
            "Model: \"model\"\n",
            "_________________________________________________________________\n",
            "Layer (type)                 Output Shape              Param #   \n",
            "=================================================================\n",
            "input_1 (InputLayer)         [(None, 320, 128)]        0         \n",
            "_________________________________________________________________\n",
            "transformer_block (Transform (None, 320, 128)          140832    \n",
            "_________________________________________________________________\n",
            "global_average_pooling1d (Gl (None, 128)               0         \n",
            "_________________________________________________________________\n",
            "dense_2 (Dense)              (None, 128)               16512     \n",
            "_________________________________________________________________\n",
            "dense_3 (Dense)              (None, 40)                5160      \n",
            "=================================================================\n",
            "Total params: 162,504\n",
            "Trainable params: 162,504\n",
            "Non-trainable params: 0\n",
            "_________________________________________________________________\n"
          ],
          "name": "stdout"
        }
      ]
    },
    {
      "cell_type": "code",
      "metadata": {
        "colab": {
          "base_uri": "https://localhost:8080/"
        },
        "id": "ZTAlwLThfYfg",
        "outputId": "be4e8a94-3af7-4825-e79e-75df11e0ae5f"
      },
      "source": [
        "history = model.fit(x_train, y_train, validation_data=(x_test, y_test),\n",
        "                   epochs=45, batch_size=32,callbacks = myCallback())\n",
        "print(model.evaluate(x_test, y_test))"
      ],
      "execution_count": 19,
      "outputs": [
        {
          "output_type": "stream",
          "text": [
            "Epoch 1/45\n",
            "300/300 [==============================] - 16s 39ms/step - loss: 2.0652 - accuracy: 0.4188 - val_loss: 1.0222 - val_accuracy: 0.6775\n",
            "Epoch 2/45\n",
            "300/300 [==============================] - 11s 38ms/step - loss: 0.6793 - accuracy: 0.7992 - val_loss: 0.4845 - val_accuracy: 0.8571\n",
            "Epoch 3/45\n",
            "300/300 [==============================] - 11s 37ms/step - loss: 0.3508 - accuracy: 0.8998 - val_loss: 0.3037 - val_accuracy: 0.9098\n",
            "Epoch 4/45\n",
            "300/300 [==============================] - 11s 37ms/step - loss: 0.2162 - accuracy: 0.9396 - val_loss: 0.2337 - val_accuracy: 0.9282\n",
            "Epoch 5/45\n",
            "300/300 [==============================] - 11s 37ms/step - loss: 0.1740 - accuracy: 0.9501 - val_loss: 0.1792 - val_accuracy: 0.9515\n",
            "Epoch 6/45\n",
            "300/300 [==============================] - 11s 37ms/step - loss: 0.1094 - accuracy: 0.9700 - val_loss: 0.1554 - val_accuracy: 0.9541\n",
            "Epoch 7/45\n",
            "300/300 [==============================] - 11s 38ms/step - loss: 0.1047 - accuracy: 0.9712 - val_loss: 0.1725 - val_accuracy: 0.9490\n",
            "Epoch 8/45\n",
            "300/300 [==============================] - 11s 37ms/step - loss: 0.1118 - accuracy: 0.9666 - val_loss: 0.1792 - val_accuracy: 0.9465\n",
            "Epoch 9/45\n",
            "300/300 [==============================] - 11s 37ms/step - loss: 0.0925 - accuracy: 0.9727 - val_loss: 0.0996 - val_accuracy: 0.9733\n",
            "Epoch 10/45\n",
            "300/300 [==============================] - 11s 38ms/step - loss: 0.0774 - accuracy: 0.9799 - val_loss: 0.1434 - val_accuracy: 0.9574\n",
            "Epoch 11/45\n",
            "300/300 [==============================] - 11s 38ms/step - loss: 0.1050 - accuracy: 0.9677 - val_loss: 0.1470 - val_accuracy: 0.9541\n",
            "Epoch 12/45\n",
            "300/300 [==============================] - 11s 37ms/step - loss: 0.0664 - accuracy: 0.9827 - val_loss: 0.1341 - val_accuracy: 0.9632\n",
            "Epoch 13/45\n",
            "300/300 [==============================] - 11s 37ms/step - loss: 0.0431 - accuracy: 0.9877 - val_loss: 0.0735 - val_accuracy: 0.9825\n",
            "Epoch 14/45\n",
            "300/300 [==============================] - 11s 38ms/step - loss: 0.0697 - accuracy: 0.9794 - val_loss: 0.1564 - val_accuracy: 0.9549\n",
            "Epoch 15/45\n",
            "300/300 [==============================] - 11s 38ms/step - loss: 0.1089 - accuracy: 0.9666 - val_loss: 0.1741 - val_accuracy: 0.9482\n",
            "Epoch 16/45\n",
            "300/300 [==============================] - 11s 38ms/step - loss: 0.0595 - accuracy: 0.9807 - val_loss: 0.1052 - val_accuracy: 0.9716\n",
            "Epoch 17/45\n",
            "300/300 [==============================] - 11s 38ms/step - loss: 0.0300 - accuracy: 0.9928 - val_loss: 0.0672 - val_accuracy: 0.9841\n",
            "Epoch 18/45\n",
            "300/300 [==============================] - 11s 38ms/step - loss: 0.0227 - accuracy: 0.9947 - val_loss: 0.0623 - val_accuracy: 0.9866\n",
            "Epoch 19/45\n",
            "300/300 [==============================] - 11s 38ms/step - loss: 0.0586 - accuracy: 0.9838 - val_loss: 0.1236 - val_accuracy: 0.9716\n",
            "Epoch 20/45\n",
            "300/300 [==============================] - 11s 38ms/step - loss: 0.1157 - accuracy: 0.9645 - val_loss: 0.1518 - val_accuracy: 0.9557\n",
            "Epoch 21/45\n",
            "300/300 [==============================] - 11s 37ms/step - loss: 0.0517 - accuracy: 0.9843 - val_loss: 0.0759 - val_accuracy: 0.9825\n",
            "Epoch 22/45\n",
            "300/300 [==============================] - 11s 37ms/step - loss: 0.0219 - accuracy: 0.9943 - val_loss: 0.0458 - val_accuracy: 0.9883\n",
            "Epoch 23/45\n",
            "300/300 [==============================] - 11s 38ms/step - loss: 0.0193 - accuracy: 0.9951 - val_loss: 0.0666 - val_accuracy: 0.9850\n",
            "Epoch 24/45\n",
            "300/300 [==============================] - 11s 37ms/step - loss: 0.0542 - accuracy: 0.9845 - val_loss: 0.1038 - val_accuracy: 0.9716\n",
            "Epoch 25/45\n",
            "300/300 [==============================] - 11s 37ms/step - loss: 0.0873 - accuracy: 0.9758 - val_loss: 0.0971 - val_accuracy: 0.9683\n",
            "Epoch 26/45\n",
            "300/300 [==============================] - 11s 38ms/step - loss: 0.0571 - accuracy: 0.9828 - val_loss: 0.0721 - val_accuracy: 0.9816\n",
            "Epoch 27/45\n",
            "300/300 [==============================] - 11s 38ms/step - loss: 0.0222 - accuracy: 0.9941 - val_loss: 0.0662 - val_accuracy: 0.9808\n",
            "Epoch 28/45\n",
            "300/300 [==============================] - 11s 38ms/step - loss: 0.0285 - accuracy: 0.9926 - val_loss: 0.1067 - val_accuracy: 0.9799\n",
            "Epoch 29/45\n",
            "300/300 [==============================] - 11s 37ms/step - loss: 0.0516 - accuracy: 0.9854 - val_loss: 0.0738 - val_accuracy: 0.9825\n",
            "Epoch 30/45\n",
            "300/300 [==============================] - 11s 38ms/step - loss: 0.0355 - accuracy: 0.9899 - val_loss: 0.0662 - val_accuracy: 0.9816\n",
            "Epoch 31/45\n",
            "300/300 [==============================] - 11s 38ms/step - loss: 0.0576 - accuracy: 0.9841 - val_loss: 0.0877 - val_accuracy: 0.9749\n",
            "Epoch 32/45\n",
            "300/300 [==============================] - 11s 38ms/step - loss: 0.0191 - accuracy: 0.9951 - val_loss: 0.0612 - val_accuracy: 0.9850\n",
            "Epoch 33/45\n",
            "300/300 [==============================] - 11s 37ms/step - loss: 0.0153 - accuracy: 0.9963 - val_loss: 0.0578 - val_accuracy: 0.9908\n",
            "Epoch 34/45\n",
            "300/300 [==============================] - 11s 38ms/step - loss: 0.0839 - accuracy: 0.9777 - val_loss: 0.0880 - val_accuracy: 0.9791\n",
            "Epoch 35/45\n",
            "300/300 [==============================] - 11s 38ms/step - loss: 0.0479 - accuracy: 0.9866 - val_loss: 0.0856 - val_accuracy: 0.9791\n",
            "Epoch 36/45\n",
            "300/300 [==============================] - 11s 38ms/step - loss: 0.0256 - accuracy: 0.9937 - val_loss: 0.0579 - val_accuracy: 0.9908\n",
            "Epoch 37/45\n",
            "300/300 [==============================] - 11s 38ms/step - loss: 0.0062 - accuracy: 0.9991 - val_loss: 0.0366 - val_accuracy: 0.9942\n",
            "Epoch 38/45\n",
            "300/300 [==============================] - 11s 38ms/step - loss: 0.0074 - accuracy: 0.9984 - val_loss: 0.0399 - val_accuracy: 0.9933\n",
            "Epoch 39/45\n",
            "300/300 [==============================] - 11s 38ms/step - loss: 0.0661 - accuracy: 0.9818 - val_loss: 0.1244 - val_accuracy: 0.9632\n",
            "Epoch 40/45\n",
            "300/300 [==============================] - 11s 38ms/step - loss: 0.0551 - accuracy: 0.9847 - val_loss: 0.1066 - val_accuracy: 0.9816\n",
            "Epoch 41/45\n",
            "300/300 [==============================] - 11s 38ms/step - loss: 0.0412 - accuracy: 0.9906 - val_loss: 0.0710 - val_accuracy: 0.9774\n",
            "Epoch 42/45\n",
            "300/300 [==============================] - 11s 38ms/step - loss: 0.0470 - accuracy: 0.9874 - val_loss: 0.0641 - val_accuracy: 0.9875\n",
            "Epoch 43/45\n",
            "300/300 [==============================] - 11s 38ms/step - loss: 0.0198 - accuracy: 0.9955 - val_loss: 0.0740 - val_accuracy: 0.9875\n",
            "Epoch 44/45\n",
            "300/300 [==============================] - 11s 38ms/step - loss: 0.0169 - accuracy: 0.9967 - val_loss: 0.0329 - val_accuracy: 0.9942\n",
            "Epoch 45/45\n",
            "300/300 [==============================] - 11s 38ms/step - loss: 0.0021 - accuracy: 0.9997 - val_loss: 0.0299 - val_accuracy: 0.9958\n",
            "\n",
            "Reached 0.99% accuracy, so stopping training!!\n",
            "38/38 [==============================] - 1s 20ms/step - loss: 0.0299 - accuracy: 0.9958\n",
            "[0.029883859679102898, 0.9958229064941406]\n"
          ],
          "name": "stdout"
        }
      ]
    },
    {
      "cell_type": "code",
      "metadata": {
        "colab": {
          "base_uri": "https://localhost:8080/",
          "height": 295
        },
        "id": "4z--rNysAQ0s",
        "outputId": "b2be1cd3-1fdb-4879-e84e-a9a1b5372c92"
      },
      "source": [
        "# summarize history for accuracy\n",
        "plt.plot(history.history['accuracy'])\n",
        "plt.plot(history.history['loss'])\n",
        "plt.plot(history.history['val_accuracy'])\n",
        "plt.plot(history.history['val_loss'])\n",
        "plt.title('model accuracy')\n",
        "plt.ylabel('accuracy')\n",
        "plt.xlabel('epoch')\n",
        "plt.legend(['accuarcy', 'loss','val_accuracy','val_loss'], loc='upper right')\n",
        "plt.show()"
      ],
      "execution_count": 20,
      "outputs": [
        {
          "output_type": "display_data",
          "data": {
            "image/png": "[encoded data removed]",
            "text/plain": [
              "<Figure size 432x288 with 1 Axes>"
            ]
          },
          "metadata": {
            "tags": [],
            "needs_background": "light"
          }
        }
      ]
    },
    {
      "cell_type": "code",
      "metadata": {
        "colab": {
          "base_uri": "https://localhost:8080/"
        },
        "id": "4r7LW8Q87ggG",
        "outputId": "fab0f5f1-d2e1-4e2d-9c89-5d22823e0162"
      },
      "source": [
        "# extract = Model(model.inputs, model.layers[-2].output)\n",
        "# features = extract.predict(x_train)\n",
        "# extract.summary()"
      ],
      "execution_count": 21,
      "outputs": [
        {
          "output_type": "stream",
          "text": [
            "Model: \"model\"\n",
            "_________________________________________________________________\n",
            "Layer (type)                 Output Shape              Param #   \n",
            "=================================================================\n",
            "Total params: 157,344\n",
            "Trainable params: 157,344\n",
            "Non-trainable params: 0\n",
            "_________________________________________________________________\n"
          ],
          "name": "stdout"
        }
      ]
    }
  ]
}