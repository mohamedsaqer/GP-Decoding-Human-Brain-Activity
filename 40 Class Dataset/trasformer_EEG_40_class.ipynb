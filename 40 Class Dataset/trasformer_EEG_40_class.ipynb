{
  "nbformat": 4,
  "nbformat_minor": 0,
  "metadata": {
    "accelerator": "GPU",
    "colab": {
      "name": "trasformer_EEG_40_class.ipynb",
      "provenance": [],
      "collapsed_sections": []
    },
    "kernelspec": {
      "display_name": "Python 3",
      "name": "python3"
    }
  },
  "cells": [
    {
      "cell_type": "code",
      "metadata": {
        "colab": {
          "base_uri": "https://localhost:8080/"
        },
        "id": "B2lyw6MFxz_k",
        "outputId": "b9eb6052-5bfe-4e4e-d5a8-1c5cdf36c1f6"
      },
      "source": [
        "from google.colab import drive\n",
        "drive.mount('/content/drive')\n",
        "\n",
        "from tensorflow.python.keras.backend import clear_session\n",
        "import tensorflow as tf,keras\n",
        "from tensorflow.keras import layers\n",
        "import numpy as np\n",
        "import matplotlib.pylab as plt\n",
        "import torch.utils.data as data\n",
        "#import h5py\n",
        "#import csv\n",
        "from tensorflow.python.keras.callbacks import EarlyStopping, ModelCheckpoint\n",
        "import torch\n",
        "import keras\n",
        "from tensorflow.keras.models import Sequential\n",
        "from keras.layers import Input, Dense, LSTM,Dropout\n",
        "from tensorflow.keras.utils import to_categorical\n",
        "from keras.models import Model\n",
        "from torchvision import transforms"
      ],
      "execution_count": 1,
      "outputs": [
        {
          "output_type": "stream",
          "text": [
            "Mounted at /content/drive\n"
          ],
          "name": "stdout"
        }
      ]
    },
    {
      "cell_type": "markdown",
      "metadata": {
        "id": "AbHLYhLwU7hH"
      },
      "source": [
        "# class EEGloader\n",
        "loadData\n"
      ]
    },
    {
      "cell_type": "code",
      "metadata": {
        "id": "KIxoKWbny8Be"
      },
      "source": [
        "class eegloader(data.Dataset):\n",
        "\tdef __init__(self, data_path, labels, data_dir='./', dlen=160, stpt=320, nch=128):\n",
        "\n",
        "\t\tdata = torch.load(data_dir + data_path)\n",
        "\t\tself.mean = data['means']\n",
        "\t\tself.stdev = data['stddevs']\n",
        "\t\tself.labels = labels\n",
        "\t\tself.data = []\n",
        "    \n",
        "\t\tfor l in self.labels:\n",
        "\t\t\tself.data.append(data['dataset'][l])\n",
        "\n",
        "\t\tassert len(self.data)==len(self.labels)\n",
        "\t\tself.dlen = dlen\n",
        "\t\tself.stpt = stpt\n",
        "\t\tself.nch = nch\n",
        "\n",
        "\tdef __len__(self):\n",
        "\t\treturn len(self.data)\n",
        "\t\n",
        "\tdef __getitem__(self, idx):\n",
        "\t\tnch  = self.nch\n",
        "\t\tdlen = self.dlen \n",
        "\t\tstpt = self.stpt\n",
        "\t\n",
        "\t\tx = np.zeros((nch,dlen))\n",
        "\t\ty = self.data[idx]['label']\n",
        "\t\ts = self.data[idx]['subject'] \n",
        "\t\t\n",
        "\t\tx = torch.from_numpy(x)\n",
        "\t\tx[:,:min(int(self.data[idx]['eeg'].shape[1]),dlen)] = self.data[idx]['eeg'][:,stpt:stpt+dlen]\n",
        "\t\tx = x.type(torch.FloatTensor).sub(self.mean.expand(nch,dlen))/ self.stdev.expand(nch,dlen)\n",
        "\n",
        "\t\treturn x,y,s\n",
        "\n",
        "def load_data(data_path, labels, path ,dlen , stpt):\n",
        "  \n",
        "\n",
        "\n",
        "    x = eegloader(data_path, labels, path ,dlen, stpt)\n",
        "    eeg = []\n",
        "    y_labels = []\n",
        "    x_train=[]\n",
        "    y_train=[]\n",
        "    x_test=[]\n",
        "    y_test=[]\n",
        "    x_val =[]\n",
        "    y_val =[]\n",
        "    train_size = int(len(x)*0.8)\n",
        "    val_size = int(len(x)*0.1)\n",
        "    test_size = len(x) - train_size - val_size\n",
        "\n",
        "    for i in range(len(x)):\n",
        "        eeg.append(tf.make_ndarray(tf.make_tensor_proto(x[i][0])))\n",
        "        y_labels.append(x[i][1])\n",
        "\n",
        "    eeg = np.transpose(np.array(eeg),(0,2,1))\n",
        "    y_labels = np.array(y_labels)\n",
        "\n",
        "\n",
        "    x_train = np.array(eeg[0:train_size])\n",
        "    y_train = np.array(y_labels[0:train_size])\n",
        "    x_test = np.array(eeg[train_size:train_size+test_size])\n",
        "    y_test = np.array(y_labels[train_size:train_size+test_size])\n",
        "    x_val = np.array(eeg[train_size+test_size:len(x)])\n",
        "    y_val = np.array(y_labels[train_size+test_size:len(x)]) \n",
        "                      \n",
        "    del(x,eeg,y_labels)\n",
        "    return (x_train,y_train,x_test,y_test,x_val,y_val)"
      ],
      "execution_count": 2,
      "outputs": []
    },
    {
      "cell_type": "code",
      "metadata": {
        "id": "m4z1CoVFx6Ko"
      },
      "source": [
        "path = '/content/drive/My Drive/Dataset/eeg/'\n",
        "data_path = 'eeg_signals_128_sequential_band_all_with_mean_std.pth'\n",
        "diff = 200       ## diff\n",
        "strt = 50   ## star of time point\n",
        "\n",
        "\n",
        "data1 = torch.load(path + data_path)\n",
        "dst = data1['dataset']\n",
        "labels = []\n",
        "labels2 = []\n",
        "for i in range(len(dst)):\n",
        "  labels.append(dst[i]['image'])\n",
        "\n",
        "labels = np.argsort(labels) \n",
        "\n",
        "x_train,y_train,x_test,y_test,x_val,y_val = load_data(data_path, labels, path ,dlen=diff, stpt=strt)"
      ],
      "execution_count": 3,
      "outputs": []
    },
    {
      "cell_type": "code",
      "metadata": {
        "id": "2z_7weJZdsxw"
      },
      "source": [
        "y_train = to_categorical(y_train, num_classes=40)\n",
        "y_val = to_categorical(y_val, num_classes=40)\n",
        "y_test = to_categorical(y_test, num_classes=40)"
      ],
      "execution_count": 4,
      "outputs": []
    },
    {
      "cell_type": "markdown",
      "metadata": {
        "id": "W_qmjDqPUyWp"
      },
      "source": [
        "#Transformer\n"
      ]
    },
    {
      "cell_type": "code",
      "metadata": {
        "id": "6DVsdX5OxVEf"
      },
      "source": [
        "class TransformerBlock(layers.Layer):\n",
        "    def __init__(self, embed_dim, num_heads, ff_dim, rate=0):\n",
        "        super(TransformerBlock, self).__init__()\n",
        "        self.att = layers.MultiHeadAttention(num_heads=num_heads, key_dim=embed_dim)\n",
        "        self.ffn = keras.Sequential(\n",
        "            [layers.Dense(ff_dim, activation=\"relu\"), layers.Dense(embed_dim),]\n",
        "        )\n",
        "        self.layernorm1 = layers.LayerNormalization(epsilon=1e-6)\n",
        "        self.layernorm2 = layers.LayerNormalization(epsilon=1e-6)\n",
        "        \n",
        "    def call(self, inputs, training):\n",
        "        attn_output = self.att(inputs, inputs)\n",
        "        out1 = self.layernorm1(inputs + attn_output)\n",
        "        ffn_output = self.ffn(out1)        \n",
        "        return self.layernorm2(out1 + ffn_output)\n",
        "\n",
        "\n",
        "class myCallback(tf.keras.callbacks.Callback):\n",
        "\tdef on_epoch_end(self, epoch, logs={}):\n",
        "\t\tif(logs.get('val_accuracy') >= 0.995):\n",
        "\t\t\tprint(\"\\nReached %2.2f%% accuracy, so stopping training!!\" %(100))\n",
        "\t\t\tself.model.stop_training = True"
      ],
      "execution_count": 25,
      "outputs": []
    },
    {
      "cell_type": "code",
      "metadata": {
        "colab": {
          "base_uri": "https://localhost:8080/"
        },
        "id": "w98QGkLmU3C1",
        "outputId": "7338a91d-6444-46e0-c36f-d1a41abed453"
      },
      "source": [
        "num_heads = 2  # Number of attention heads\n",
        "ff_dim = 32  # Hidden layer size in feed forward network inside transformer\n",
        "\n",
        "sequence_input = tf.keras.layers.Input(shape=(x_train.shape[1], x_train.shape[2]))\n",
        "transformer_block = TransformerBlock(x_train.shape[2], num_heads, ff_dim)\n",
        "x = transformer_block(sequence_input)\n",
        "x = layers.GlobalAveragePooling1D()(x)\n",
        "x = layers.Dense(128, activation=\"relu\")(x)\n",
        "outputs = layers.Dense(40, activation=\"softmax\")(x)\n",
        "model = tf.keras.Model(inputs=sequence_input, outputs=outputs)\n",
        "model.compile(optimizer='adam', loss='categorical_crossentropy', metrics=['accuracy'])\n",
        "model.summary()"
      ],
      "execution_count": 24,
      "outputs": [
        {
          "output_type": "stream",
          "text": [
            "Model: \"model_3\"\n",
            "_________________________________________________________________\n",
            "Layer (type)                 Output Shape              Param #   \n",
            "=================================================================\n",
            "input_4 (InputLayer)         [(None, 200, 128)]        0         \n",
            "_________________________________________________________________\n",
            "transformer_block_3 (Transfo (None, 200, 128)          140832    \n",
            "_________________________________________________________________\n",
            "global_average_pooling1d_3 ( (None, 128)               0         \n",
            "_________________________________________________________________\n",
            "dense_14 (Dense)             (None, 128)               16512     \n",
            "_________________________________________________________________\n",
            "dense_15 (Dense)             (None, 40)                5160      \n",
            "=================================================================\n",
            "Total params: 162,504\n",
            "Trainable params: 162,504\n",
            "Non-trainable params: 0\n",
            "_________________________________________________________________\n"
          ],
          "name": "stdout"
        }
      ]
    },
    {
      "cell_type": "code",
      "metadata": {
        "colab": {
          "base_uri": "https://localhost:8080/"
        },
        "id": "ZTAlwLThfYfg",
        "outputId": "2db3ef1a-222d-4a21-fbef-ee9ee1bc5dff"
      },
      "source": [
        "history = model.fit(x_train, y_train, validation_data=(x_test, y_test),\n",
        "                   epochs=45, batch_size=32,callbacks = myCallback())\n",
        "print(model.evaluate(x_test, y_test))"
      ],
      "execution_count": 26,
      "outputs": [
        {
          "output_type": "stream",
          "text": [
            "Epoch 1/45\n",
            "300/300 [==============================] - 9s 26ms/step - loss: 2.0842 - accuracy: 0.4114 - val_loss: 0.9744 - val_accuracy: 0.6976\n",
            "Epoch 2/45\n",
            "300/300 [==============================] - 7s 25ms/step - loss: 0.6789 - accuracy: 0.7980 - val_loss: 0.5697 - val_accuracy: 0.8162\n",
            "Epoch 3/45\n",
            "300/300 [==============================] - 7s 25ms/step - loss: 0.3519 - accuracy: 0.8973 - val_loss: 0.2960 - val_accuracy: 0.9156\n",
            "Epoch 4/45\n",
            "300/300 [==============================] - 7s 24ms/step - loss: 0.2341 - accuracy: 0.9319 - val_loss: 0.2598 - val_accuracy: 0.9206\n",
            "Epoch 5/45\n",
            "300/300 [==============================] - 7s 24ms/step - loss: 0.1790 - accuracy: 0.9464 - val_loss: 0.1993 - val_accuracy: 0.9449\n",
            "Epoch 6/45\n",
            "300/300 [==============================] - 7s 25ms/step - loss: 0.1237 - accuracy: 0.9644 - val_loss: 0.1393 - val_accuracy: 0.9616\n",
            "Epoch 7/45\n",
            "300/300 [==============================] - 7s 25ms/step - loss: 0.1276 - accuracy: 0.9608 - val_loss: 0.1889 - val_accuracy: 0.9382\n",
            "Epoch 8/45\n",
            "300/300 [==============================] - 7s 24ms/step - loss: 0.1185 - accuracy: 0.9657 - val_loss: 0.1946 - val_accuracy: 0.9432\n",
            "Epoch 9/45\n",
            "300/300 [==============================] - 7s 25ms/step - loss: 0.1033 - accuracy: 0.9727 - val_loss: 0.1769 - val_accuracy: 0.9474\n",
            "Epoch 10/45\n",
            "300/300 [==============================] - 7s 25ms/step - loss: 0.0629 - accuracy: 0.9833 - val_loss: 0.0887 - val_accuracy: 0.9774\n",
            "Epoch 11/45\n",
            "300/300 [==============================] - 7s 24ms/step - loss: 0.0766 - accuracy: 0.9781 - val_loss: 0.1728 - val_accuracy: 0.9457\n",
            "Epoch 12/45\n",
            "300/300 [==============================] - 7s 25ms/step - loss: 0.0987 - accuracy: 0.9695 - val_loss: 0.1253 - val_accuracy: 0.9616\n",
            "Epoch 13/45\n",
            "300/300 [==============================] - 7s 25ms/step - loss: 0.0615 - accuracy: 0.9850 - val_loss: 0.0710 - val_accuracy: 0.9808\n",
            "Epoch 14/45\n",
            "300/300 [==============================] - 7s 25ms/step - loss: 0.0600 - accuracy: 0.9823 - val_loss: 0.1952 - val_accuracy: 0.9566\n",
            "Epoch 15/45\n",
            "300/300 [==============================] - 7s 25ms/step - loss: 0.1014 - accuracy: 0.9713 - val_loss: 0.1388 - val_accuracy: 0.9632\n",
            "Epoch 16/45\n",
            "300/300 [==============================] - 7s 24ms/step - loss: 0.0500 - accuracy: 0.9857 - val_loss: 0.0853 - val_accuracy: 0.9749\n",
            "Epoch 17/45\n",
            "300/300 [==============================] - 7s 25ms/step - loss: 0.0423 - accuracy: 0.9869 - val_loss: 0.1000 - val_accuracy: 0.9699\n",
            "Epoch 18/45\n",
            "300/300 [==============================] - 7s 25ms/step - loss: 0.0714 - accuracy: 0.9800 - val_loss: 0.1263 - val_accuracy: 0.9674\n",
            "Epoch 19/45\n",
            "300/300 [==============================] - 7s 25ms/step - loss: 0.0323 - accuracy: 0.9910 - val_loss: 0.0931 - val_accuracy: 0.9791\n",
            "Epoch 20/45\n",
            "300/300 [==============================] - 7s 24ms/step - loss: 0.0343 - accuracy: 0.9916 - val_loss: 0.1932 - val_accuracy: 0.9490\n",
            "Epoch 21/45\n",
            "300/300 [==============================] - 7s 25ms/step - loss: 0.0879 - accuracy: 0.9741 - val_loss: 0.1435 - val_accuracy: 0.9624\n",
            "Epoch 22/45\n",
            "300/300 [==============================] - 7s 25ms/step - loss: 0.0596 - accuracy: 0.9826 - val_loss: 0.0547 - val_accuracy: 0.9875\n",
            "Epoch 23/45\n",
            "300/300 [==============================] - 7s 25ms/step - loss: 0.0124 - accuracy: 0.9974 - val_loss: 0.1246 - val_accuracy: 0.9825\n",
            "Epoch 24/45\n",
            "300/300 [==============================] - 7s 25ms/step - loss: 0.0354 - accuracy: 0.9913 - val_loss: 0.0834 - val_accuracy: 0.9833\n",
            "Epoch 25/45\n",
            "300/300 [==============================] - 7s 24ms/step - loss: 0.0802 - accuracy: 0.9760 - val_loss: 0.1069 - val_accuracy: 0.9699\n",
            "Epoch 26/45\n",
            "300/300 [==============================] - 7s 25ms/step - loss: 0.0375 - accuracy: 0.9906 - val_loss: 0.0532 - val_accuracy: 0.9900\n",
            "Epoch 27/45\n",
            "300/300 [==============================] - 7s 25ms/step - loss: 0.0284 - accuracy: 0.9943 - val_loss: 0.1449 - val_accuracy: 0.9708\n",
            "Epoch 28/45\n",
            "300/300 [==============================] - 7s 25ms/step - loss: 0.0631 - accuracy: 0.9817 - val_loss: 0.0927 - val_accuracy: 0.9724\n",
            "Epoch 29/45\n",
            "300/300 [==============================] - 7s 25ms/step - loss: 0.0342 - accuracy: 0.9906 - val_loss: 0.0880 - val_accuracy: 0.9774\n",
            "Epoch 30/45\n",
            "300/300 [==============================] - 7s 25ms/step - loss: 0.0223 - accuracy: 0.9950 - val_loss: 0.1043 - val_accuracy: 0.9808\n",
            "Epoch 31/45\n",
            "300/300 [==============================] - 7s 25ms/step - loss: 0.0454 - accuracy: 0.9875 - val_loss: 0.1336 - val_accuracy: 0.9649\n",
            "Epoch 32/45\n",
            "300/300 [==============================] - 7s 25ms/step - loss: 0.0356 - accuracy: 0.9905 - val_loss: 0.0990 - val_accuracy: 0.9649\n",
            "Epoch 33/45\n",
            "300/300 [==============================] - 7s 25ms/step - loss: 0.0244 - accuracy: 0.9928 - val_loss: 0.0993 - val_accuracy: 0.9799\n",
            "Epoch 34/45\n",
            "300/300 [==============================] - 7s 25ms/step - loss: 0.0570 - accuracy: 0.9838 - val_loss: 0.1325 - val_accuracy: 0.9649\n",
            "Epoch 35/45\n",
            "300/300 [==============================] - 7s 25ms/step - loss: 0.0364 - accuracy: 0.9901 - val_loss: 0.0712 - val_accuracy: 0.9883\n",
            "Epoch 36/45\n",
            "300/300 [==============================] - 7s 25ms/step - loss: 0.0188 - accuracy: 0.9951 - val_loss: 0.0355 - val_accuracy: 0.9942\n",
            "Epoch 37/45\n",
            "300/300 [==============================] - 7s 25ms/step - loss: 0.0383 - accuracy: 0.9909 - val_loss: 0.1379 - val_accuracy: 0.9607\n",
            "Epoch 38/45\n",
            "300/300 [==============================] - 7s 25ms/step - loss: 0.0406 - accuracy: 0.9878 - val_loss: 0.1012 - val_accuracy: 0.9783\n",
            "Epoch 39/45\n",
            "300/300 [==============================] - 7s 25ms/step - loss: 0.0295 - accuracy: 0.9913 - val_loss: 0.0780 - val_accuracy: 0.9858\n",
            "Epoch 40/45\n",
            "300/300 [==============================] - 7s 25ms/step - loss: 0.0208 - accuracy: 0.9953 - val_loss: 0.0806 - val_accuracy: 0.9841\n",
            "Epoch 41/45\n",
            "300/300 [==============================] - 7s 25ms/step - loss: 0.0144 - accuracy: 0.9962 - val_loss: 0.0991 - val_accuracy: 0.9791\n",
            "Epoch 42/45\n",
            "300/300 [==============================] - 7s 25ms/step - loss: 0.0892 - accuracy: 0.9763 - val_loss: 0.1234 - val_accuracy: 0.9632\n",
            "Epoch 43/45\n",
            "300/300 [==============================] - 7s 25ms/step - loss: 0.0236 - accuracy: 0.9933 - val_loss: 0.0479 - val_accuracy: 0.9925\n",
            "Epoch 44/45\n",
            "300/300 [==============================] - 7s 25ms/step - loss: 0.0056 - accuracy: 0.9984 - val_loss: 0.0766 - val_accuracy: 0.9858\n",
            "Epoch 45/45\n",
            "300/300 [==============================] - 7s 25ms/step - loss: 0.0069 - accuracy: 0.9984 - val_loss: 0.0388 - val_accuracy: 0.9950\n",
            "38/38 [==============================] - 1s 14ms/step - loss: 0.0388 - accuracy: 0.9950\n",
            "[0.03879356384277344, 0.9949874877929688]\n"
          ],
          "name": "stdout"
        }
      ]
    },
    {
      "cell_type": "code",
      "metadata": {
        "colab": {
          "base_uri": "https://localhost:8080/",
          "height": 295
        },
        "id": "4z--rNysAQ0s",
        "outputId": "308a29db-3a07-481b-c5ad-b4b8f25dad13"
      },
      "source": [
        "# summarize history for accuracy\n",
        "plt.plot(history.history['accuracy'])\n",
        "plt.plot(history.history['loss'])\n",
        "plt.plot(history.history['val_accuracy'])\n",
        "plt.plot(history.history['val_loss'])\n",
        "plt.title('model accuracy')\n",
        "plt.ylabel('accuracy')\n",
        "plt.xlabel('epoch')\n",
        "plt.legend(['accuarcy', 'loss','val_accuracy','val_loss'], loc='upper right')\n",
        "plt.show()"
      ],
      "execution_count": 27,
      "outputs": [
        {
          "output_type": "display_data",
          "data": {
            "image/png": "[encoded data removed]",
            "text/plain": [
              "<Figure size 432x288 with 1 Axes>"
            ]
          },
          "metadata": {
            "tags": [],
            "needs_background": "light"
          }
        }
      ]
    },
    {
      "cell_type": "markdown",
      "metadata": {
        "id": "FSUSBwYarOrq"
      },
      "source": [
        "#GAN\n"
      ]
    },
    {
      "cell_type": "code",
      "metadata": {
        "colab": {
          "base_uri": "https://localhost:8080/"
        },
        "id": "4r7LW8Q87ggG",
        "outputId": "4887b12d-7c93-4687-a602-27ee31a450da"
      },
      "source": [
        "extract = Model(model.inputs, model.layers[-2].output)\n",
        "features = extract.predict(x_train)\n",
        "extract.summary()"
      ],
      "execution_count": null,
      "outputs": [
        {
          "output_type": "stream",
          "text": [
            "Model: \"model_35\"\n",
            "_________________________________________________________________\n",
            "Layer (type)                 Output Shape              Param #   \n",
            "=================================================================\n",
            "input_2 (InputLayer)         [(None, 200, 128)]        0         \n",
            "_________________________________________________________________\n",
            "transformer_block_1 (Transfo (None, 200, 128)          140832    \n",
            "_________________________________________________________________\n",
            "global_average_pooling1d_1 ( (None, 128)               0         \n",
            "_________________________________________________________________\n",
            "dense_8 (Dense)              (None, 128)               16512     \n",
            "=================================================================\n",
            "Total params: 157,344\n",
            "Trainable params: 157,344\n",
            "Non-trainable params: 0\n",
            "_________________________________________________________________\n",
            "(9572, 128)\n",
            "[ 0.          0.8998062   8.458572    5.463703    0.          0.\n",
            "  0.          6.004793    0.          0.          0.          0.\n",
            "  0.          0.          0.          1.2443831   0.          0.\n",
            "  0.          6.841965    0.          1.1946745   1.8643091   0.\n",
            "  6.643793    0.          0.          0.8156675   7.8423133  10.07711\n",
            "  0.          0.          0.          0.          0.          0.\n",
            "  0.49399772  0.          0.          0.          0.          2.46527\n",
            "  0.          1.3257666  10.809324    0.          2.1757324   0.\n",
            "  0.9829988   0.0385083   0.          1.2759366   6.626011    0.\n",
            "  0.          6.393246    0.         10.850273    0.          0.\n",
            "  1.7337388   0.          2.2071683   5.100489    6.1247377   7.7933745\n",
            "  2.7784424   1.3413185   9.388862    0.          5.4156966   1.9995285\n",
            "  0.          4.034796    0.          0.          0.          0.\n",
            "  0.          0.          1.4867121   0.          0.          0.\n",
            "  5.766846    0.          1.5600692   5.4327784   0.          1.8691036\n",
            "  0.          0.          3.5328574   0.          0.          9.515462\n",
            "  0.          0.          0.          0.          0.          1.3010042\n",
            "  0.          5.352104    0.          0.          0.          0.\n",
            "  0.          3.563985    0.          1.9282781   0.          6.8408737\n",
            "  0.          2.0950606   0.          0.          0.          6.1543818\n",
            "  3.3536646   5.7351456   0.          0.          0.          0.\n",
            "  0.          1.841945  ]\n",
            "[ 1.40187964e-01  1.98069364e-01 -1.82683229e-01  2.78089158e-02\n",
            "  3.09837192e-01  1.08749703e-01  4.00772020e-02 -2.00102165e-01\n",
            "  6.64490881e-06  3.90472094e-04 -1.31964739e-02  2.91210506e-02\n",
            " -2.88186997e-01 -3.20314378e-01 -1.90421879e-01 -3.46967012e-01\n",
            " -1.30415251e-02 -6.08266033e-02 -1.48203194e-01 -1.27301097e-01\n",
            " -2.69188732e-01  8.15061703e-02 -1.27600670e-01 -2.42667422e-01\n",
            " -1.12926304e-01 -1.58105604e-02 -1.38668954e-01 -1.36212870e-01\n",
            " -1.07762806e-01 -1.32111534e-01 -1.42948598e-01 -4.56215665e-02\n",
            " -1.23877084e+00  3.69655013e-01 -1.35791612e+00 -3.14711022e+00\n",
            " -2.22900343e+00 -1.23371065e-01 -2.31108427e+00 -1.40769899e+00\n",
            " -1.29634905e+00 -2.47587442e+00 -1.84654295e+00 -9.12176192e-01\n",
            " -4.50793840e-02 -2.56030273e+00 -5.47411740e-01 -1.06775630e+00\n",
            " -1.62131917e+00 -7.49600306e-02 -2.21709752e+00 -1.16235590e+00\n",
            " -5.76319516e-01 -4.84442204e-01 -8.88482630e-01 -4.24175858e-01\n",
            " -5.61494172e-01 -3.68778825e-01 -2.83330250e+00 -1.41828012e+00\n",
            " -3.79271597e-01 -2.90316880e-01 -2.19684057e-02 -1.92057729e+00\n",
            " -7.22805709e-02 -8.70001689e-02 -2.65147567e+00 -4.31632614e+00\n",
            " -9.45558771e-02 -2.19190583e-01 -4.77627777e-02 -1.69169688e+00\n",
            " -5.44521987e-01 -1.42981744e+00 -1.78187883e+00 -2.25383830e+00\n",
            " -1.21684998e-01 -1.97787553e-01 -1.05257082e+00 -3.13782007e-01\n",
            " -3.79023015e-01 -1.28845298e+00 -4.59979614e-03 -1.23168319e-01\n",
            " -2.21474528e+00 -1.01934306e-01 -5.62792897e-01 -2.19313240e+00\n",
            " -2.81379819e-01 -5.09564698e-01  1.84506249e+00 -3.30906063e-02\n",
            " -3.44486870e-02 -2.93737888e-01 -1.38253045e+00 -1.23178251e-01\n",
            " -2.88363039e-01 -1.41330242e+00 -2.77128839e+00 -2.43062064e-01\n",
            " -1.05356109e+00 -1.94131243e+00 -1.17965794e+00 -1.98862219e+00\n",
            " -1.65158898e-01 -2.33443141e+00 -1.42521769e-01 -2.43705559e+00\n",
            " -1.45207560e+00 -6.11751862e-02 -2.12674648e-01 -8.45380723e-02\n",
            " -2.16926265e+00 -1.09393942e+00 -1.98394370e+00 -7.11780429e-01\n",
            " -4.73349959e-01 -3.48129869e-01 -2.44597936e+00  2.00755310e+00\n",
            " -4.93430233e+00 -1.93843520e+00 -1.03505440e-01 -1.30142784e+00\n",
            " -1.35479942e-01 -2.54039073e+00 -1.18135840e-01 -3.13601232e+00]\n"
          ],
          "name": "stdout"
        }
      ]
    }
  ]
}